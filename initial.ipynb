{
 "cells": [
  {
   "cell_type": "code",
   "execution_count": 1,
   "id": "aacecaa5-22d4-4b9f-8c5b-bfff685cdfe9",
   "metadata": {},
   "outputs": [],
   "source": [
    "import numpy as np\n",
    "import pandas as pd\n",
    "from scipy.sparse import csc_matrix,find,csr_matrix\n",
    "import matplotlib.pyplot as plt\n",
    "from tqdm import tqdm\n",
    "from skimage.util import view_as_windows\n"
   ]
  },
  {
   "cell_type": "code",
   "execution_count": 2,
   "id": "4ab89308-cc2c-4395-843e-86963f763ad3",
   "metadata": {},
   "outputs": [],
   "source": [
    "\n",
    "\n",
    "INV_flag = 0\n",
    "\n",
    "CDT_type0 = 0\n",
    "CDT_K0 = 60\n",
    "CDT_type = 0\n",
    "CDT_K = 60\n",
    "\n",
    "\n",
    "MakePrototypes = 1\n",
    "splitTest2parts = 1\n",
    "\n",
    "flag_binary0 = 0\n",
    "LimNum1s = 50000\n",
    "LimNum1s2nd = 2000\n",
    "NumTrainSamples=60000\n",
    "NumTestSamples =10000\n",
    "MultiClassTraining = 1\n",
    "NumberOfClasses = 10\n",
    "TDS_start = 0.3\n",
    "TDS_step = 0.05\n",
    "TDS_end = 0.3\n",
    "\n",
    "shy = 0\n",
    "shy_step = 6\n",
    "shx = 0\n",
    "shx_step = 6\n",
    "\n",
    "shiftCrossFlag = 0\n",
    "\n",
    "deskew = 0\n",
    "NumOfTrainingCycles = 200\n",
    "StopTrainErrors = 1\n",
    "\n",
    "\n",
    "Dc_start = 4\n",
    "Dc_step = 1\n",
    "Dc_end = 4\n",
    "Dc_ratioXY_start = 1\n",
    "Dc_ratioXY_step = 1\n",
    "Dc_ratioXY_end = 1\n",
    "\n",
    "Dc2_start = 1\n",
    "Dc2_step = 1\n",
    "Dc2_end = 1\n",
    "\n",
    "seed = 101\n",
    "seed_start = seed\n",
    "number_experiments = 1\n",
    "seed_finish = seed+number_experiments-1\n",
    "\n",
    "y_dim,x_dim = 38,38\n",
    "y2_dim,x2_dim =511,1\n",
    "N = 1000000\n",
    "seed = 101\n",
    "cyc = 1"
   ]
  },
  {
   "cell_type": "code",
   "execution_count": 3,
   "id": "7616e675-1d62-4a7a-bc02-6b083006ff5e",
   "metadata": {},
   "outputs": [],
   "source": [
    "train_images = np.load(\"mnist_c_identity/train_images.npy\")\n",
    "train_labels = np.load(\"mnist_c_identity/train_labels.npy\")\n",
    "\n",
    "test_images = np.load(\"mnist_c_identity/test_images.npy\")\n",
    "test_labels = np.load(\"mnist_c_identity/test_labels.npy\")\n",
    "\n",
    "# train_images = np.squeeze(train_images)\n",
    "# test_images = np.squeeze(test_images)"
   ]
  },
  {
   "cell_type": "code",
   "execution_count": 4,
   "id": "0bc0a5a4-b12b-46ae-8b6b-268ac657bcfc",
   "metadata": {},
   "outputs": [],
   "source": [
    "def rolling_window(a, shape):\n",
    "    s = (a.shape[0] - shape[0] + 1,) + (a.shape[1] - shape[1] + 1,) + shape\n",
    "    strides = a.strides + a.strides\n",
    "    return np.lib.stride_tricks.as_strided(a, shape=s, strides=strides)\n",
    "\n",
    "def window2(arr, shape=(3, 3)):\n",
    "    r_extra = np.floor(shape[0] / 2).astype(int)\n",
    "    c_extra = np.floor(shape[1] / 2).astype(int)\n",
    "    out = np.empty((arr.shape[0] + 2 * r_extra, arr.shape[1] + 2 * c_extra))\n",
    "    out[:] = np.nan\n",
    "    out[r_extra:-r_extra, c_extra:-c_extra] = arr\n",
    "    view = rolling_window(out, shape)\n",
    "    return view"
   ]
  },
  {
   "cell_type": "code",
   "execution_count": 5,
   "id": "e9ca3510-f2db-48a1-92d5-57232dc06907",
   "metadata": {
    "tags": []
   },
   "outputs": [],
   "source": [
    "row = []\n",
    "col = []\n",
    "data = np.array([1]*9)\n",
    "for i in range(0,5,2):\n",
    "    for j in range(0,5,2):\n",
    "        row.append(i)\n",
    "        col.append(j)\n",
    "row = np.array(row)\n",
    "col = np.array(col)\n",
    "mask = csr_matrix((data, (row, col)), shape=(5, 5)).toarray()"
   ]
  },
  {
   "cell_type": "code",
   "execution_count": 6,
   "id": "a327d487-f1c1-44c3-bfd0-ff402b3f232b",
   "metadata": {},
   "outputs": [],
   "source": [
    "def extract_local_binary_pattern(patch,mask_idx,pad=0):\n",
    "    rows,cols = mask_idx\n",
    "    bits = np.nan_to_num(patch,nan=pad)[:,rows,cols]\n",
    "    median_bit = (np.median(bits,axis=-1,keepdims=True)).astype(np.uint8)\n",
    "    bits -= median_bit\n",
    "    bits = np.clip(bits, 0, 1)\n",
    "    # bits = np.array([bits])\n",
    "    return bits.dot(1 << np.arange(bits.shape[-1] - 1, -1, -1))\n",
    "    "
   ]
  },
  {
   "cell_type": "code",
   "execution_count": 7,
   "id": "57917d01-4f2b-45ef-9b54-932a765af075",
   "metadata": {
    "tags": []
   },
   "outputs": [],
   "source": [
    "def get_lbp_features(patch):\n",
    "    lbp_features = np.zeros(patch.shape[:3])\n",
    "    for e in range(patch.shape[1]):\n",
    "        for f in range(patch.shape[2]):\n",
    "            lbp_features[:,e,f] = extract_local_binary_pattern(patch[:,e,f,:,:],[row,col])\n",
    "    return np.array(lbp_features).reshape(patch.shape[:3])"
   ]
  },
  {
   "cell_type": "code",
   "execution_count": 8,
   "id": "998f0658-ebf5-4051-97ef-8ba73017df74",
   "metadata": {},
   "outputs": [
    {
     "data": {
      "text/plain": [
       "<matplotlib.image.AxesImage at 0x7f83526bba30>"
      ]
     },
     "execution_count": 8,
     "metadata": {},
     "output_type": "execute_result"
    },
    {
     "data": {
      "image/png": "[encoded data removed]",
      "text/plain": [
       "<Figure size 640x480 with 1 Axes>"
      ]
     },
     "metadata": {},
     "output_type": "display_data"
    }
   ],
   "source": [
    "plt.imshow(np.array(train_images[0]).reshape((28,28)))"
   ]
  },
  {
   "cell_type": "code",
   "execution_count": 9,
   "id": "03321048-fec7-4e9c-9dbb-bdbd3259e2d8",
   "metadata": {},
   "outputs": [],
   "source": [
    "def cycle_permutation(N,seed=101):\n",
    "    np.random.seed(seed)\n",
    "    a = np.arange(N)\n",
    "    for i in range(N-1):\n",
    "        j = np.random.randint(i+1,N)\n",
    "        a[[j,i]] = a[[i,j]]\n",
    "    return a"
   ]
  },
  {
   "cell_type": "code",
   "execution_count": 10,
   "id": "6ccbb876-2abc-4f88-bb66-91cb033d62f7",
   "metadata": {},
   "outputs": [],
   "source": [
    "def shifts_by_permutations_inverse_fast(inCVarray,perm_y,perm_x,perm_y1,perm_x1):\n",
    "    inCVarray = perm_y[inCVarray.astype(int)]\n",
    "    inCVarray = perm_x[inCVarray.astype(int)]\n",
    "    inCVarray = perm_y1[inCVarray.astype(int)]\n",
    "    outCVarray = perm_x1[inCVarray.astype(int)]\n",
    "    return outCVarray"
   ]
  },
  {
   "cell_type": "code",
   "execution_count": 11,
   "id": "a7894d25-877c-421d-a65d-3736e32d24d9",
   "metadata": {},
   "outputs": [],
   "source": [
    "def prepare_permutations(ysz,xsz,Dc,Dc_ratio,N,seed,ysz1,xsz1,Dc2,Dc2_ratio,cyc):\n",
    "    DcX = round(Dc*Dc_ratio)\n",
    "    DcX2 = round(Dc2*Dc2_ratio)\n",
    "    \n",
    "    perm_y0 = cycle_permutation(N,seed)\n",
    "    invperm_y0 = np.arange(N)\n",
    "    invperm_y0[perm_y0] = np.arange(N)\n",
    "    no_perm = np.arange(N).T\n",
    "    perm_all = []\n",
    "    \n",
    "    perm_y = []\n",
    "    perm_y.append(np.copy(perm_y0))\n",
    "    perm_compos_col = np.copy(perm_y0)\n",
    "    \n",
    "    for k in range(1,ysz+Dc-1):\n",
    "        perm_compos_col = np.copy(perm_y0[perm_compos_col])\n",
    "        perm_y.append(np.copy(perm_compos_col))\n",
    "    perm_y = np.array(perm_y).T\n",
    "    \n",
    "    \n",
    "    perm_y_inv = []\n",
    "    perm_y_inv.append(np.copy(invperm_y0))\n",
    "    perm_compos_col_inv = np.copy(invperm_y0)\n",
    "    for k in range(1,ysz+Dc-1):\n",
    "        perm_compos_col_inv = np.copy(invperm_y0[perm_compos_col_inv])\n",
    "        perm_y_inv.append(np.copy(perm_compos_col_inv))\n",
    "    perm_y_inv = np.fliplr(np.array(perm_y_inv).T)\n",
    "    perm_y_all = np.concatenate([perm_y_inv, np.expand_dims(no_perm,-1), perm_y],axis=-1)\n",
    "    \n",
    "    \n",
    "    perm_x = []\n",
    "    perm_x.append(np.copy(perm_compos_col))\n",
    "    perm_compos_col1 = np.copy(perm_compos_col)\n",
    "    \n",
    "    for k in range(1,xsz+DcX-1):\n",
    "        perm_compos_col1 = np.copy(perm_compos_col[perm_compos_col1])\n",
    "        perm_x.append(np.copy(perm_compos_col[perm_x[k-1]]))\n",
    "    perm_x = np.array(perm_x).T\n",
    "    \n",
    "    \n",
    "    perm_x_inv = []\n",
    "    perm_x_inv.append(np.copy(perm_compos_col_inv))\n",
    "    perm_compos_col_inv1 = np.copy(perm_compos_col_inv)\n",
    "    for k in range(xsz+DcX-1):\n",
    "        perm_compos_col_inv1 = np.copy(perm_compos_col_inv[perm_compos_col_inv1])\n",
    "        perm_x_inv.append(np.copy(perm_compos_col_inv[perm_x_inv[k-1]]))\n",
    "        \n",
    "    perm_x_inv = np.fliplr(np.array(perm_x_inv).T)\n",
    "    perm_x_all = np.concatenate([perm_x_inv, np.expand_dims(no_perm,-1), perm_x],axis=-1)\n",
    "    \n",
    "    \n",
    "    perm_y1 = []\n",
    "    perm_y1.append(np.copy(perm_compos_col1))\n",
    "    perm_y_inv1 = []\n",
    "    perm_y_inv1.append(np.copy(perm_compos_col_inv1))\n",
    "\n",
    "    perm_compos_col2 = np.copy(perm_compos_col1)\n",
    "    perm_compos_col_inv2 = np.copy(perm_compos_col_inv1)\n",
    "    \n",
    "    if ysz > 1:\n",
    "        for k in range(1,ysz1+Dc2-1):\n",
    "            perm_compos_col2 = np.copy(perm_compos_col1[perm_compos_col2])\n",
    "            perm_y1.append(np.copy(perm_compos_col1[perm_y1[k-1]]))\n",
    "        \n",
    "        perm_y1 = np.array(perm_y1).T\n",
    "        \n",
    "        for k in range(1,ysz1+Dc2-1):\n",
    "            perm_compos_col_inv2 = np.copy(perm_compos_col_inv1[perm_compos_col_inv2])\n",
    "            perm_y_inv1.append(np.copy(perm_compos_col_inv1[perm_y_inv1[k-1]]))\n",
    "        \n",
    "        perm_y_inv1 = np.fliplr(np.array(perm_y_inv1).T)\n",
    "        perm_y_all1 = np.concatenate([perm_y_inv1, np.expand_dims(no_perm,-1), perm_y1],axis=-1)\n",
    "\n",
    "     \n",
    "    perm_x1 = []\n",
    "    perm_x1.append(np.copy(perm_compos_col2))\n",
    "    perm_x_inv1 = []\n",
    "    perm_x_inv1.append(np.copy(perm_compos_col_inv2))\n",
    "\n",
    "    perm_compos_col3 = np.copy(perm_compos_col2)\n",
    "    perm_compos_col_inv3 = np.copy(perm_compos_col_inv2)\n",
    "    if xsz > 1:\n",
    "        for k in range(1,xsz1+DcX2-1):\n",
    "            perm_compos_col3 = np.copy(perm_compos_col2[perm_compos_col3])\n",
    "            perm_x1.append(np.copy(perm_compos_col2[perm_x1[k-1]]))\n",
    "        \n",
    "        perm_x1 = np.array(perm_x1).T\n",
    "        \n",
    "        for k in range(1,xsz1+DcX2-1):\n",
    "            perm_compos_col_inv3 = np.copy(perm_compos_col_inv2[perm_compos_col_inv3])\n",
    "            perm_x_inv1.append(np.copy(perm_compos_col_inv2[perm_x_inv1[k-1]]))\n",
    "        \n",
    "        perm_x_inv1 = np.fliplr(np.array(perm_x_inv1).T)\n",
    "        perm_x_all1 = np.concatenate([perm_x_inv1, np.expand_dims(no_perm,-1), perm_x1],axis=-1)\n",
    "    \n",
    "    return perm_y_all, perm_x_all, perm_y_all1, perm_x_all1"
   ]
  },
  {
   "cell_type": "code",
   "execution_count": 12,
   "id": "c9e28376-4b9d-4aeb-84f2-f9940ee77184",
   "metadata": {},
   "outputs": [],
   "source": [
    "def get_permutations(y_dim, x_dim, DC, DC_ratio, N, seed, y2_dim, x2_dim, DC2, DC2_ratio):\n",
    "    np.random.seed(seed)\n",
    "    DcX = round(DC*DC_ratio)\n",
    "    DcX2 = round(DC2*DC2_ratio)\n",
    "    \n",
    "    permutation_y0 = cycle_permutation(N,seed)\n",
    "    inverse_permutation_y0 = np.zeros(permutation_y0.shape[-1])\n",
    "    inverse_permutation_y0[permutation_y0] = np.arange(permutation_y0.shape[-1])\n",
    "    no_permutation = np.arange(N).T\n",
    "    \n",
    "    permutation_y = np.copy(permutation_y0).T\n",
    "    perm_compos_col = np.copy(permutation_y0)\n",
    "    for k in range(1,y_dim+DC-1):\n",
    "        perm_compos_col = np.copy(permutation_y0[perm_compos_col])\n",
    "        permutation_y = np.c_[permutation_y,perm_compos_col.T]\n",
    "        \n",
    "    \n",
    "    permutation_y_inv = np.copy(inverse_permutation_y0).T\n",
    "    perm_compos_col_inv = np.copy(inverse_permutation_y0)\n",
    "    for k in range(1,y_dim+DC-1):\n",
    "        perm_compos_col_inv = np.copy(inverse_permutation_y0[perm_compos_col_inv.astype(np.uint8)])\n",
    "        permutation_y_inv = np.c_[permutation_y_inv,perm_compos_col_inv.T]\n",
    "    \n",
    "    permutation_y_inv = np.fliplr(permutation_y_inv)\n",
    "    perm_y_all = np.concatenate([permutation_y_inv, np.expand_dims(no_permutation,-1), permutation_y],axis=1)\n",
    "    \n",
    "    \n",
    "    permutation_x = np.expand_dims(np.copy(perm_compos_col).T,-1)\n",
    "    perm_compos_col1 = np.copy(perm_compos_col)\n",
    "    for k in range(1,x_dim+DcX-1):\n",
    "        perm_compos_col1 = np.copy(perm_compos_col[perm_compos_col1.astype(np.uint8)])\n",
    "        permutation_x = np.c_[permutation_x,perm_compos_col[permutation_x[:,k-1].flatten().astype(np.uint8)].T]\n",
    "        \n",
    "    \n",
    "    permutation_x_inv = np.expand_dims(np.copy(perm_compos_col_inv).T,-1)\n",
    "    perm_compos_col_inv1 = np.copy(perm_compos_col_inv)\n",
    "    for k in range(1,x_dim+DcX-1):\n",
    "        perm_compos_col_inv1 = np.copy(perm_compos_col_inv[perm_compos_col_inv1.astype(np.uint8)])\n",
    "        permutation_x_inv = np.c_[permutation_x_inv,perm_compos_col_inv[permutation_x_inv[:,k-1].flatten().astype(np.uint8)].T]\n",
    "    \n",
    "    permutation_x_inv = np.fliplr(permutation_x_inv)\n",
    "    perm_x_all = np.concatenate([permutation_x_inv, np.expand_dims(no_permutation,-1), permutation_x],axis=1)\n",
    "    \n",
    "    \n",
    "    permutation_y1 = np.expand_dims(np.copy(perm_compos_col1).T,-1)\n",
    "    perm_compos_col2 = np.copy(perm_compos_col1)\n",
    "    for k in range(1,y2_dim+DC2-1):\n",
    "        perm_compos_col2 = np.copy(perm_compos_col1[perm_compos_col2.astype(np.uint8)])\n",
    "        permutation_y1 = np.c_[permutation_y1,perm_compos_col1[permutation_y1[:,k-1].flatten().astype(np.uint8)].T]\n",
    "        \n",
    "    \n",
    "    permutation_y1_inv = np.expand_dims(np.copy(perm_compos_col_inv1).T,-1)\n",
    "    perm_compos_col_inv2 = np.copy(perm_compos_col_inv1)\n",
    "    for k in range(1,y2_dim+DC2-1):\n",
    "        perm_compos_col_inv2 = np.copy(perm_compos_col_inv1[perm_compos_col_inv2.astype(np.uint8)])\n",
    "        permutation_y1_inv = np.c_[permutation_y1_inv,perm_compos_col_inv1[permutation_y1_inv[:,k-1].flatten().astype(np.uint8)].T]\n",
    "    \n",
    "    permutation_y1_inv = np.fliplr(permutation_y1_inv)\n",
    "    perm_y1_all = np.concatenate([permutation_y1_inv, np.expand_dims(no_permutation,-1), permutation_y1],axis=1)\n",
    "    \n",
    "    \n",
    "    \n",
    "    permutation_x1 = np.expand_dims(np.copy(perm_compos_col2).T, -1)\n",
    "    perm_compos_col3 = np.copy(perm_compos_col2)\n",
    "    for k in range(1,x2_dim+DcX2-1):\n",
    "        perm_compos_col3 = np.copy(perm_compos_col2[perm_compos_col3.astype(np.uint8)])\n",
    "        permutation_x1 = np.c_[permutation_x1,perm_compos_col2[permutation_x1[:,k-1].flatten().astype(np.uint8)].T]\n",
    "        \n",
    "    \n",
    "    permutation_x1_inv = np.expand_dims(np.copy(perm_compos_col_inv2).T, -1)\n",
    "    perm_compos_col_inv3 = np.copy(perm_compos_col_inv2)\n",
    "    for k in range(1,x2_dim+DcX2-1):\n",
    "        perm_compos_col_inv3 = np.copy(perm_compos_col_inv2[perm_compos_col_inv3.astype(np.uint8)])\n",
    "        permutation_x1_inv = np.c_[permutation_x1_inv,perm_compos_col_inv2[permutation_x1_inv[:,k-1].flatten().astype(np.uint8)].T]\n",
    "    \n",
    "    permutation_x1_inv = np.fliplr(permutation_x1_inv)\n",
    "    perm_x1_all = np.concatenate([permutation_x1_inv, np.expand_dims(no_permutation,-1), permutation_x1],axis=1)\n",
    "    \n",
    "    \n",
    "    \n",
    "    \n",
    "    \n",
    "    return perm_y_all, perm_x_all, perm_y1_all, perm_x1_all\n",
    "    \n",
    "    "
   ]
  },
  {
   "cell_type": "code",
   "execution_count": 13,
   "id": "0d3a8ee1-8490-4528-b207-2d1084940a72",
   "metadata": {},
   "outputs": [],
   "source": [
    "# tyt = get_permutations(38,38,4,1,1000,101,511,1,1,1)\n",
    "tyt = prepare_permutations(38,38,4,1,1000,101,511,1,1,1,1)"
   ]
  },
  {
   "cell_type": "code",
   "execution_count": 14,
   "id": "8f680413-4242-41cb-84d8-1f095d19e8c3",
   "metadata": {},
   "outputs": [],
   "source": [
    "def make_codevector_matrix(y_dim, x_dim, DC, DC_ratio, N, seed, y2_dim, x2_dim, DC2, DC2_ratio,p,cyc):\n",
    "    np.random.seed(seed)\n",
    "    DcX = round(DC*DC_ratio)\n",
    "    DcX2 = round(DC2*DC2_ratio)\n",
    "    Np = round(p)\n",
    "    num = 0\n",
    "    \n",
    "    perm_all = prepare_permutations(y_dim, x_dim, DC, DC_ratio, N, seed, y2_dim, x2_dim, DC2, DC2_ratio,cyc)\n",
    "    perm_y_all = perm_all[0]\n",
    "    perm_x_all = perm_all[1]\n",
    "    perm_y_all1 = perm_all[2]\n",
    "    perm_x_all1 = perm_all[3]\n",
    "    \n",
    "    # print(perm_y_all.shape)\n",
    "    # print(perm_y_all.shape)\n",
    "    # print(perm_x_all.shape)\n",
    "    # print(perm_y_all1.shape)\n",
    "    # print(perm_x_all1.shape)\n",
    "    \n",
    "    \n",
    "    no_permutation = np.arange(N)\n",
    "    base_permutation = np.random.permutation(N)\n",
    "    base_vec = base_permutation[:Np]\n",
    "    inCV1 = []\n",
    "    \n",
    "    if cyc == 1:\n",
    "        perm_y0 = cycle_permutation(N,seed)\n",
    "    if cyc == 0:\n",
    "        perm_y0 = np.random.permutation(N)\n",
    "    \n",
    "    base_vec = np.copy(perm_y0[base_vec])\n",
    "    \n",
    "    # print(base_vec)\n",
    "    for jj1 in range(DcX2):\n",
    "        perm_x1 = perm_x_all1[:,jj1+x2_dim+DcX2-1]\n",
    "        \n",
    "        for ii1 in range(DC2):\n",
    "            perm_y1 = perm_y_all1[:,ii1+y2_dim+DC2-1]\n",
    "            \n",
    "            for jj in range(DcX):\n",
    "                perm_x = perm_x_all[:,jj+x_dim+DcX-1]\n",
    "                \n",
    "                for ii in range(DC):\n",
    "                    \n",
    "                    perm_y = perm_y_all[:,ii+y_dim+DC-1]\n",
    "                    \n",
    "                    inCV1.append(shifts_by_permutations_inverse_fast(base_vec,perm_y,perm_x,perm_y1,perm_x1))\n",
    "                    num = num + Np\n",
    "    inCV1 = np.array(inCV1).flatten()\n",
    "    # print(inCV1)  \n",
    "    \n",
    "#     inCVy = np.zeros(DC*Np)\n",
    "#     num = 0\n",
    "#     for ii in range(DC):            \n",
    "#         perm_y = perm_y_all[:,ii+y_dim+DC]\n",
    "\n",
    "#         inCVy[num:num+Np] = shifts_by_permutations_inverse_fast(base_vec,perm_y,no_permutation,no_permutation,no_permutation)\n",
    "#         num = num + Np\n",
    "    \n",
    "    \n",
    "#     inCVx = np.zeros(DcX*Np)\n",
    "#     num = 0\n",
    "#     szCV = inCVy.shape[0]\n",
    "#     for ii in range(DcX):            \n",
    "#         perm_x = perm_x_all[:,ii+x_dim+DcX]\n",
    "\n",
    "#         inCVx[num:num+Np] = shifts_by_permutations_inverse_fast(inCVy,no_permutation,perm_x,no_permutation,no_permutation)\n",
    "#         num = num + szCV\n",
    "    \n",
    "#     inCVy1 = np.zeros(DC2*Np)\n",
    "#     num = 0\n",
    "#     szCV = inCVx.shape[0]\n",
    "#     for ii in range(DC2):            \n",
    "#         perm_y1 = perm_y_all1[:,ii+y2_dim+DC2]\n",
    "\n",
    "#         inCVy1[num:num+szCV] = shifts_by_permutations_inverse_fast(inCVx,no_permutation,no_permutation,perm_y1,no_permutation)\n",
    "#         num = num + szCV\n",
    "    \n",
    "    \n",
    "#     inCVx1 = np.zeros(DcX2*Np)\n",
    "#     num = 0\n",
    "#     szCV = inCVx.shape[0]\n",
    "#     for ii in range(DcX2):            \n",
    "#         perm_x1 = perm_x_all1[:,ii+x2_dim+DcX2]\n",
    "\n",
    "#         inCVx1[num:num+szCV] = shifts_by_permutations_inverse_fast(inCVx,no_permutation,no_permutation,no_permutation,perm_x1)\n",
    "#         num = num + szCV\n",
    "    \n",
    "    \n",
    "    ###########\n",
    "    \n",
    "#     inCVx1 = []\n",
    "#     num = 0\n",
    "#     szCV = base_vec.shape[0]\n",
    "#     for ii in range(DcX2):            \n",
    "#         perm_x1 = perm_x_all1[:,ii+x2_dim+DcX2]\n",
    "\n",
    "#         inCVx1.append(shifts_by_permutations_inverse_fast(base_vec,no_permutation,no_permutation,no_permutation,perm_x1))\n",
    "#         num = num + szCV\n",
    "    \n",
    "#     inCVx1 = np.array(inCVx1).flatten() \n",
    "    \n",
    "#     inCVy1 = []\n",
    "#     num = 0\n",
    "#     szCV = inCVx1.shape[0]\n",
    "#     for ii in range(DC2):            \n",
    "#         perm_y1 = perm_y_all1[:,ii+y2_dim+DC2]\n",
    "\n",
    "#         inCVy1.append(shifts_by_permutations_inverse_fast(inCVx1,no_permutation,no_permutation,perm_y1,no_permutation))\n",
    "#         num = num + szCV\n",
    "    \n",
    "#     inCVy1 = np.array(inCVy1).flatten() \n",
    "    \n",
    "#     inCVx = []\n",
    "#     num = 0\n",
    "#     szCV = inCVy1.shape[0]\n",
    "#     for ii in range(DcX):            \n",
    "#         perm_x = perm_x_all[:,ii+x_dim+DcX]\n",
    "\n",
    "#         inCVx.append(shifts_by_permutations_inverse_fast(inCVy1,no_permutation,perm_x,no_permutation,no_permutation))\n",
    "#         num = num + szCV\n",
    "#     inCVx = np.array(inCVx).flatten() \n",
    "    \n",
    "#     inCVy = []\n",
    "#     num = 0\n",
    "#     szCV = inCVx.shape[0]\n",
    "#     for ii in range(DC):            \n",
    "#         perm_y = perm_y_all[:,ii+y_dim+DC]\n",
    "#         inCVy.append(shifts_by_permutations_inverse_fast(inCVx,perm_y,no_permutation,no_permutation,no_permutation))\n",
    "#         num = num + szCV\n",
    "#     inCVy = np.array(inCVy).flatten() \n",
    "    \n",
    "#     print(szCV,DC,inCVx,inCVy.shape)\n",
    "#     print(inCVy)\n",
    "    codevector_matrix=np.zeros((y_dim,x_dim,y2_dim,x2_dim,DC*DcX*DC2*DcX2*Np),dtype=np.uint32)\n",
    "    incv_copy = np.copy(inCV1)\n",
    "    \n",
    "    for jj1 in range(x2_dim):\n",
    "        perm_x1 = perm_x_all1[:,jj1+x2_dim+DcX2-1]\n",
    "        for ii1 in range(y2_dim):\n",
    "            perm_y1 = perm_y_all1[:,ii1+y2_dim+DC2-1]\n",
    "            # print(perm_y1.shape)\n",
    "            for jj in range(x_dim):\n",
    "                perm_x = perm_x_all[:,jj+x_dim+DcX-1]\n",
    "                # print(perm_x.shape)\n",
    "                for ii in range(y_dim):\n",
    "                    perm_y = perm_y_all[:,ii+y_dim+DC-1]\n",
    "                    # print(perm_y.shape)\n",
    "                    # temp = shifts_by_permutations_inverse_fast(np.copy(inCV1),perm_y,perm_x,perm_y1,perm_x1)\n",
    "                    codevector_matrix[ii,jj,ii1,jj1,:] = shifts_by_permutations_inverse_fast(np.copy(inCV1),perm_y,perm_x,perm_y1,perm_x1)\n",
    "    \n",
    "        \n",
    "    return codevector_matrix, N\n",
    "    "
   ]
  },
  {
   "cell_type": "code",
   "execution_count": 15,
   "id": "2fdd8388-da51-4c0b-950d-8d5aa7457417",
   "metadata": {
    "tags": []
   },
   "outputs": [],
   "source": [
    "c_m, n = make_codevector_matrix(38+2*0, 38, 4, 1, N, 101, 511, 1, 1, 1,1,1)"
   ]
  },
  {
   "cell_type": "code",
   "execution_count": 16,
   "id": "68ecce79-122a-4273-9946-0a19885e5da0",
   "metadata": {
    "tags": []
   },
   "outputs": [
    {
     "data": {
      "text/plain": [
       "array([     0,      1,      2, ..., 999997, 999998, 999999], dtype=uint32)"
      ]
     },
     "execution_count": 16,
     "metadata": {},
     "output_type": "execute_result"
    }
   ],
   "source": [
    "np.unique(c_m)"
   ]
  },
  {
   "cell_type": "code",
   "execution_count": 17,
   "id": "857a2e97-5e13-4d9a-b162-3a2eec5f17a1",
   "metadata": {},
   "outputs": [],
   "source": [
    "def make_sparsevector(nodes,nodes2,tensor,ysz,xsz,ysz2,xsz2,N,copy,bin_flag,LimNum1s,m,sz):\n",
    "    num_nodes = nodes.shape[0]\n",
    "    num_nodes2 = nodes2.shape[0]\n",
    "    if nodes.shape != nodes2.shape:\n",
    "        return\n",
    "    out_codevector = np.zeros((nodes2.shape[1],tensor.shape[-1]))\n",
    "    for i in range(nodes2.shape[1]):\n",
    "        y = nodes[0,i]\n",
    "        x = nodes[1,i]\n",
    "        y2 = nodes2[1,i]\n",
    "        x2 = nodes2[0,i]\n",
    "        # print(y,x,y2,x2,tensor[y,x,int(y2),int(x2),:].sum())\n",
    "        \n",
    "        out_codevector[i,:] = tensor[y,x,int(y2),int(x2)]\n",
    "    unique_index = np.unique(out_codevector.flatten())\n",
    "    # print(out_codevector)\n",
    "    if LimNum1s:\n",
    "        num_non_zero = np.nonzero(unique_index)[0].shape[0]\n",
    "        if num_non_zero > LimNum1s:\n",
    "            unique_index = unique_index[:LimNum1s]\n",
    "    # print(unique_index)\n",
    "    # sparse_vector = csc_matrix(\n",
    "    #     ([1]*unique_index.shape[0],\n",
    "    #     ([m]*unique_index.shape[0],unique_index)),\n",
    "    #     shape=((sz,N)),\n",
    "    #     dtype=np.bool_\n",
    "    # )\n",
    "    return [m]*unique_index.shape[0],unique_index.tolist()\n",
    "         "
   ]
  },
  {
   "cell_type": "code",
   "execution_count": 18,
   "id": "56ebe80b-f808-4ae9-be5f-d7816e52aa16",
   "metadata": {},
   "outputs": [],
   "source": [
    "train_expanded = np.pad(train_images,((0,0),(2,2),(2,2),(0,0)),'constant',constant_values=np.nan)\n",
    "train_patches = view_as_windows(train_expanded, (1,5,5,1))[...,0,:,:,0]\n",
    "train_patches = np.squeeze(train_patches,axis=3)\n",
    "train_lbp = get_lbp_features(train_patches)\n",
    "train_lbp = np.pad(train_lbp,((0,0),(5,5),(5,5)),'constant',constant_values=0)\n"
   ]
  },
  {
   "cell_type": "code",
   "execution_count": 19,
   "id": "b28fb9ab-faf3-4f8a-88ff-c5533f88e04e",
   "metadata": {},
   "outputs": [],
   "source": [
    "test_expanded = np.pad(test_images,((0,0),(2,2),(2,2),(0,0)),'constant',constant_values=np.nan)\n",
    "test_patches = view_as_windows(test_expanded, (1,5,5,1))[...,0,:,:,0]\n",
    "test_patches = np.squeeze(test_patches,axis=3)\n",
    "test_lbp = get_lbp_features(test_patches)\n",
    "test_lbp = np.pad(test_lbp,((0,0),(5,5),(5,5)),'constant',constant_values=0)\n"
   ]
  },
  {
   "cell_type": "code",
   "execution_count": 49,
   "id": "7895dc17-132c-47a5-bef0-20f0684f7083",
   "metadata": {
    "tags": []
   },
   "outputs": [
    {
     "name": "stderr",
     "output_type": "stream",
     "text": [
      "100%|██████████████████████████████████████| 60000/60000 [01:01<00:00, 974.49it/s]\n"
     ]
    }
   ],
   "source": [
    "\n",
    "train_s_rows = []\n",
    "train_s_cols = []\n",
    "for m,a in enumerate(tqdm(train_lbp)):\n",
    "    a_nonzero = np.nonzero(a)\n",
    "    arr1 = np.array([a_nonzero[0],a_nonzero[1]])\n",
    "    a_values = a[a_nonzero]\n",
    "    arr2 = np.array([[0]*a_nonzero[1].shape[0], a_values])\n",
    "    sparse_vec = make_sparsevector(arr1,arr2,c_m,38,38,511,1,N,0,0,2000,m,NumTrainSamples)\n",
    "    # print(sparse_vec)\n",
    "    train_s_rows += sparse_vec[0]\n",
    "    train_s_cols += sparse_vec[1]    \n",
    "    \n",
    "train_sparse = csr_matrix(([1]*len(train_s_cols),(train_s_rows,train_s_cols)),\n",
    "                            shape=((NumTrainSamples,N)),\n",
    "                             dtype=np.bool_\n",
    "                        )"
   ]
  },
  {
   "cell_type": "code",
   "execution_count": 48,
   "id": "a11f457f-d33d-42ed-b326-f1cdefde0565",
   "metadata": {
    "tags": []
   },
   "outputs": [
    {
     "name": "stderr",
     "output_type": "stream",
     "text": [
      "100%|█████████████████████████████████████| 10000/10000 [00:09<00:00, 1027.99it/s]\n"
     ]
    }
   ],
   "source": [
    "\n",
    "test_s_rows = []\n",
    "test_s_cols = []\n",
    "for m,a in enumerate(tqdm(test_lbp)):\n",
    "    a_nonzero = np.nonzero(a)\n",
    "    arr1 = np.array([a_nonzero[0],a_nonzero[1]])\n",
    "    a_values = a[a_nonzero]\n",
    "    arr2 = np.array([[0]*a_nonzero[1].shape[0], a_values])\n",
    "    sparse_vec = make_sparsevector(arr1,arr2,c_m,38,38,511,1,N,0,0,2000,m,NumTestSamples)\n",
    "    # print(sparse_vec)\n",
    "    test_s_rows += sparse_vec[0]\n",
    "    test_s_cols += sparse_vec[1]\n",
    "    \n",
    "test_sparse = csr_matrix(([1]*len(test_s_cols),(test_s_rows,test_s_cols)),\n",
    "                            shape=((NumTestSamples,N)),\n",
    "                             dtype=np.bool_\n",
    "                        )"
   ]
  },
  {
   "cell_type": "code",
   "execution_count": 45,
   "id": "bccf5c7b-f289-41a1-93a8-6ca3c6ae5b95",
   "metadata": {},
   "outputs": [
    {
     "data": {
      "text/plain": [
       "2957"
      ]
     },
     "execution_count": 45,
     "metadata": {},
     "output_type": "execute_result"
    }
   ],
   "source": [
    "# del train_sparse\n",
    "import gc\n",
    "gc.collect()"
   ]
  },
  {
   "cell_type": "code",
   "execution_count": 40,
   "id": "a382a0c7-13dd-4aa0-9793-68ac711332d1",
   "metadata": {},
   "outputs": [
    {
     "data": {
      "text/plain": [
       "matrix([[200],\n",
       "        [200],\n",
       "        [200],\n",
       "        ...,\n",
       "        [200],\n",
       "        [200],\n",
       "        [200]])"
      ]
     },
     "execution_count": 40,
     "metadata": {},
     "output_type": "execute_result"
    }
   ],
   "source": [
    "test_sparse.sum(axis=1)"
   ]
  },
  {
   "cell_type": "code",
   "execution_count": 42,
   "id": "28981861-7103-43cf-b011-b767c8d12899",
   "metadata": {
    "tags": []
   },
   "outputs": [
    {
     "name": "stderr",
     "output_type": "stream",
     "text": [
      "  0%|                                                     | 0/200 [00:00<?, ?it/s]"
     ]
    },
    {
     "name": "stdout",
     "output_type": "stream",
     "text": [
      "Train Correct: 0 Train Error: 0\n"
     ]
    },
    {
     "name": "stderr",
     "output_type": "stream",
     "text": [
      "  0%|▏                                            | 1/200 [00:05<17:43,  5.34s/it]"
     ]
    },
    {
     "name": "stdout",
     "output_type": "stream",
     "text": [
      "Test Correct: 6872 Test Errors: 3128\n",
      "Train Correct: 24595 Train Error: 35405\n"
     ]
    },
    {
     "name": "stderr",
     "output_type": "stream",
     "text": [
      "  1%|▍                                          | 2/200 [02:14<4:17:15, 77.96s/it]"
     ]
    },
    {
     "name": "stdout",
     "output_type": "stream",
     "text": [
      "Test Correct: 8100 Test Errors: 1900\n",
      "Train Correct: 33691 Train Error: 26309\n"
     ]
    },
    {
     "name": "stderr",
     "output_type": "stream",
     "text": [
      "  2%|▋                                          | 3/200 [03:51<4:44:20, 86.60s/it]"
     ]
    },
    {
     "name": "stdout",
     "output_type": "stream",
     "text": [
      "Test Correct: 8065 Test Errors: 1935\n",
      "Train Correct: 35788 Train Error: 24212\n"
     ]
    },
    {
     "name": "stderr",
     "output_type": "stream",
     "text": [
      "  2%|▊                                          | 4/200 [05:13<4:38:05, 85.13s/it]"
     ]
    },
    {
     "name": "stdout",
     "output_type": "stream",
     "text": [
      "Test Correct: 8029 Test Errors: 1971\n",
      "Train Correct: 36898 Train Error: 23102\n"
     ]
    },
    {
     "name": "stderr",
     "output_type": "stream",
     "text": [
      "  2%|█                                          | 5/200 [06:41<4:39:30, 86.00s/it]"
     ]
    },
    {
     "name": "stdout",
     "output_type": "stream",
     "text": [
      "Test Correct: 8018 Test Errors: 1982\n",
      "Train Correct: 37540 Train Error: 22460\n"
     ]
    },
    {
     "name": "stderr",
     "output_type": "stream",
     "text": [
      "  3%|█▎                                         | 6/200 [08:12<4:43:11, 87.58s/it]"
     ]
    },
    {
     "name": "stdout",
     "output_type": "stream",
     "text": [
      "Test Correct: 8005 Test Errors: 1995\n",
      "Train Correct: 37987 Train Error: 22013\n"
     ]
    },
    {
     "name": "stderr",
     "output_type": "stream",
     "text": [
      "  4%|█▌                                         | 7/200 [09:31<4:32:54, 84.84s/it]"
     ]
    },
    {
     "name": "stdout",
     "output_type": "stream",
     "text": [
      "Test Correct: 7992 Test Errors: 2008\n",
      "Train Correct: 38310 Train Error: 21690\n"
     ]
    },
    {
     "name": "stderr",
     "output_type": "stream",
     "text": [
      "  4%|█▋                                         | 8/200 [10:51<4:26:51, 83.39s/it]"
     ]
    },
    {
     "name": "stdout",
     "output_type": "stream",
     "text": [
      "Test Correct: 7977 Test Errors: 2023\n",
      "Train Correct: 38549 Train Error: 21451\n"
     ]
    },
    {
     "name": "stderr",
     "output_type": "stream",
     "text": [
      "  4%|█▉                                         | 9/200 [12:17<4:27:45, 84.11s/it]"
     ]
    },
    {
     "name": "stdout",
     "output_type": "stream",
     "text": [
      "Test Correct: 7975 Test Errors: 2025\n",
      "Train Correct: 38690 Train Error: 21310\n"
     ]
    },
    {
     "name": "stderr",
     "output_type": "stream",
     "text": [
      "  5%|██                                        | 10/200 [13:37<4:22:23, 82.86s/it]"
     ]
    },
    {
     "name": "stdout",
     "output_type": "stream",
     "text": [
      "Test Correct: 7964 Test Errors: 2036\n",
      "Train Correct: 38817 Train Error: 21183\n"
     ]
    },
    {
     "name": "stderr",
     "output_type": "stream",
     "text": [
      "  6%|██▎                                       | 11/200 [15:01<4:22:14, 83.25s/it]"
     ]
    },
    {
     "name": "stdout",
     "output_type": "stream",
     "text": [
      "Test Correct: 7960 Test Errors: 2040\n",
      "Train Correct: 38913 Train Error: 21087\n"
     ]
    },
    {
     "name": "stderr",
     "output_type": "stream",
     "text": [
      "  6%|██▌                                       | 12/200 [17:01<4:56:07, 94.51s/it]"
     ]
    },
    {
     "name": "stdout",
     "output_type": "stream",
     "text": [
      "Test Correct: 7953 Test Errors: 2047\n",
      "Train Correct: 38998 Train Error: 21002\n"
     ]
    },
    {
     "name": "stderr",
     "output_type": "stream",
     "text": [
      "  6%|██▋                                       | 13/200 [18:37<4:55:50, 94.92s/it]"
     ]
    },
    {
     "name": "stdout",
     "output_type": "stream",
     "text": [
      "Test Correct: 7945 Test Errors: 2055\n",
      "Train Correct: 39069 Train Error: 20931\n"
     ]
    },
    {
     "name": "stderr",
     "output_type": "stream",
     "text": [
      "  7%|██▉                                       | 14/200 [19:55<4:38:44, 89.92s/it]"
     ]
    },
    {
     "name": "stdout",
     "output_type": "stream",
     "text": [
      "Test Correct: 7943 Test Errors: 2057\n",
      "Train Correct: 39131 Train Error: 20869\n"
     ]
    },
    {
     "name": "stderr",
     "output_type": "stream",
     "text": [
      "  8%|███▏                                      | 15/200 [21:17<4:29:02, 87.26s/it]"
     ]
    },
    {
     "name": "stdout",
     "output_type": "stream",
     "text": [
      "Test Correct: 7941 Test Errors: 2059\n",
      "Train Correct: 39186 Train Error: 20814\n"
     ]
    },
    {
     "name": "stderr",
     "output_type": "stream",
     "text": [
      "  8%|███▎                                      | 16/200 [22:40<4:23:51, 86.04s/it]"
     ]
    },
    {
     "name": "stdout",
     "output_type": "stream",
     "text": [
      "Test Correct: 7937 Test Errors: 2063\n",
      "Train Correct: 39231 Train Error: 20769\n"
     ]
    },
    {
     "name": "stderr",
     "output_type": "stream",
     "text": [
      "  8%|███▌                                      | 17/200 [24:01<4:17:38, 84.47s/it]"
     ]
    },
    {
     "name": "stdout",
     "output_type": "stream",
     "text": [
      "Test Correct: 7934 Test Errors: 2066\n",
      "Train Correct: 39255 Train Error: 20745\n"
     ]
    },
    {
     "name": "stderr",
     "output_type": "stream",
     "text": [
      "  9%|███▊                                      | 18/200 [25:24<4:15:12, 84.13s/it]"
     ]
    },
    {
     "name": "stdout",
     "output_type": "stream",
     "text": [
      "Test Correct: 7931 Test Errors: 2069\n",
      "Train Correct: 39288 Train Error: 20712\n"
     ]
    },
    {
     "name": "stderr",
     "output_type": "stream",
     "text": [
      " 10%|███▉                                      | 19/200 [26:48<4:13:25, 84.01s/it]"
     ]
    },
    {
     "name": "stdout",
     "output_type": "stream",
     "text": [
      "Test Correct: 7932 Test Errors: 2068\n",
      "Train Correct: 39333 Train Error: 20667\n"
     ]
    },
    {
     "name": "stderr",
     "output_type": "stream",
     "text": [
      " 10%|████▏                                     | 20/200 [28:12<4:12:15, 84.09s/it]"
     ]
    },
    {
     "name": "stdout",
     "output_type": "stream",
     "text": [
      "Test Correct: 7928 Test Errors: 2072\n",
      "Train Correct: 39356 Train Error: 20644\n"
     ]
    },
    {
     "name": "stderr",
     "output_type": "stream",
     "text": [
      " 10%|████▍                                     | 21/200 [29:35<4:10:06, 83.83s/it]"
     ]
    },
    {
     "name": "stdout",
     "output_type": "stream",
     "text": [
      "Test Correct: 7927 Test Errors: 2073\n",
      "Train Correct: 39380 Train Error: 20620\n"
     ]
    },
    {
     "name": "stderr",
     "output_type": "stream",
     "text": [
      " 11%|████▌                                     | 22/200 [30:56<4:06:04, 82.95s/it]"
     ]
    },
    {
     "name": "stdout",
     "output_type": "stream",
     "text": [
      "Test Correct: 7928 Test Errors: 2072\n",
      "Train Correct: 39384 Train Error: 20616\n"
     ]
    },
    {
     "name": "stderr",
     "output_type": "stream",
     "text": [
      " 12%|████▊                                     | 23/200 [32:23<4:07:48, 84.00s/it]"
     ]
    },
    {
     "name": "stdout",
     "output_type": "stream",
     "text": [
      "Test Correct: 7928 Test Errors: 2072\n",
      "Train Correct: 39421 Train Error: 20579\n"
     ]
    },
    {
     "name": "stderr",
     "output_type": "stream",
     "text": [
      " 12%|█████                                     | 24/200 [33:41<4:01:30, 82.33s/it]"
     ]
    },
    {
     "name": "stdout",
     "output_type": "stream",
     "text": [
      "Test Correct: 7928 Test Errors: 2072\n",
      "Train Correct: 39439 Train Error: 20561\n"
     ]
    },
    {
     "name": "stderr",
     "output_type": "stream",
     "text": [
      " 12%|█████▎                                    | 25/200 [34:59<3:56:16, 81.01s/it]"
     ]
    },
    {
     "name": "stdout",
     "output_type": "stream",
     "text": [
      "Test Correct: 7926 Test Errors: 2074\n",
      "Train Correct: 39449 Train Error: 20551\n"
     ]
    },
    {
     "name": "stderr",
     "output_type": "stream",
     "text": [
      " 13%|█████▍                                    | 26/200 [36:17<3:52:30, 80.18s/it]"
     ]
    },
    {
     "name": "stdout",
     "output_type": "stream",
     "text": [
      "Test Correct: 7922 Test Errors: 2078\n",
      "Train Correct: 39476 Train Error: 20524\n"
     ]
    },
    {
     "name": "stderr",
     "output_type": "stream",
     "text": [
      " 14%|█████▋                                    | 27/200 [37:37<3:51:08, 80.16s/it]"
     ]
    },
    {
     "name": "stdout",
     "output_type": "stream",
     "text": [
      "Test Correct: 7920 Test Errors: 2080\n",
      "Train Correct: 39489 Train Error: 20511\n"
     ]
    },
    {
     "name": "stderr",
     "output_type": "stream",
     "text": [
      " 14%|█████▉                                    | 28/200 [39:04<3:55:41, 82.22s/it]"
     ]
    },
    {
     "name": "stdout",
     "output_type": "stream",
     "text": [
      "Test Correct: 7919 Test Errors: 2081\n",
      "Train Correct: 39495 Train Error: 20505\n"
     ]
    },
    {
     "name": "stderr",
     "output_type": "stream",
     "text": [
      " 14%|██████                                    | 29/200 [40:28<3:55:24, 82.60s/it]"
     ]
    },
    {
     "name": "stdout",
     "output_type": "stream",
     "text": [
      "Test Correct: 7918 Test Errors: 2082\n",
      "Train Correct: 39524 Train Error: 20476\n"
     ]
    },
    {
     "name": "stderr",
     "output_type": "stream",
     "text": [
      " 15%|██████▎                                   | 30/200 [41:46<3:50:16, 81.27s/it]"
     ]
    },
    {
     "name": "stdout",
     "output_type": "stream",
     "text": [
      "Test Correct: 7916 Test Errors: 2084\n",
      "Train Correct: 39516 Train Error: 20484\n"
     ]
    },
    {
     "name": "stderr",
     "output_type": "stream",
     "text": [
      " 16%|██████▌                                   | 31/200 [43:01<3:43:55, 79.50s/it]"
     ]
    },
    {
     "name": "stdout",
     "output_type": "stream",
     "text": [
      "Test Correct: 7914 Test Errors: 2086\n",
      "Train Correct: 39543 Train Error: 20457\n"
     ]
    },
    {
     "name": "stderr",
     "output_type": "stream",
     "text": [
      " 16%|██████▋                                   | 32/200 [44:20<3:42:02, 79.30s/it]"
     ]
    },
    {
     "name": "stdout",
     "output_type": "stream",
     "text": [
      "Test Correct: 7913 Test Errors: 2087\n",
      "Train Correct: 39544 Train Error: 20456\n"
     ]
    },
    {
     "name": "stderr",
     "output_type": "stream",
     "text": [
      " 16%|██████▉                                   | 33/200 [45:39<3:40:42, 79.30s/it]"
     ]
    },
    {
     "name": "stdout",
     "output_type": "stream",
     "text": [
      "Test Correct: 7911 Test Errors: 2089\n",
      "Train Correct: 39552 Train Error: 20448\n"
     ]
    },
    {
     "name": "stderr",
     "output_type": "stream",
     "text": [
      " 17%|███████▏                                  | 34/200 [47:03<3:43:11, 80.67s/it]"
     ]
    },
    {
     "name": "stdout",
     "output_type": "stream",
     "text": [
      "Test Correct: 7910 Test Errors: 2090\n",
      "Train Correct: 39544 Train Error: 20456\n"
     ]
    },
    {
     "name": "stderr",
     "output_type": "stream",
     "text": [
      " 18%|███████▎                                  | 35/200 [48:24<3:42:11, 80.80s/it]"
     ]
    },
    {
     "name": "stdout",
     "output_type": "stream",
     "text": [
      "Test Correct: 7906 Test Errors: 2094\n",
      "Train Correct: 39564 Train Error: 20436\n"
     ]
    },
    {
     "name": "stderr",
     "output_type": "stream",
     "text": [
      " 18%|███████▌                                  | 36/200 [49:45<3:40:20, 80.61s/it]"
     ]
    },
    {
     "name": "stdout",
     "output_type": "stream",
     "text": [
      "Test Correct: 7906 Test Errors: 2094\n",
      "Train Correct: 39556 Train Error: 20444\n"
     ]
    },
    {
     "name": "stderr",
     "output_type": "stream",
     "text": [
      " 18%|███████▊                                  | 37/200 [51:06<3:39:17, 80.72s/it]"
     ]
    },
    {
     "name": "stdout",
     "output_type": "stream",
     "text": [
      "Test Correct: 7904 Test Errors: 2096\n",
      "Train Correct: 39569 Train Error: 20431\n"
     ]
    },
    {
     "name": "stderr",
     "output_type": "stream",
     "text": [
      " 19%|███████▉                                  | 38/200 [52:40<3:49:27, 84.99s/it]"
     ]
    },
    {
     "name": "stdout",
     "output_type": "stream",
     "text": [
      "Test Correct: 7902 Test Errors: 2098\n",
      "Train Correct: 39598 Train Error: 20402\n"
     ]
    },
    {
     "name": "stderr",
     "output_type": "stream",
     "text": [
      " 20%|████████▏                                 | 39/200 [54:24<4:02:39, 90.43s/it]"
     ]
    },
    {
     "name": "stdout",
     "output_type": "stream",
     "text": [
      "Test Correct: 7900 Test Errors: 2100\n",
      "Train Correct: 39591 Train Error: 20409\n"
     ]
    },
    {
     "name": "stderr",
     "output_type": "stream",
     "text": [
      " 20%|████████▍                                 | 40/200 [56:06<4:10:24, 93.91s/it]"
     ]
    },
    {
     "name": "stdout",
     "output_type": "stream",
     "text": [
      "Test Correct: 7900 Test Errors: 2100\n",
      "Train Correct: 39577 Train Error: 20423\n"
     ]
    },
    {
     "name": "stderr",
     "output_type": "stream",
     "text": [
      " 20%|████████▌                                 | 41/200 [57:55<4:21:22, 98.63s/it]"
     ]
    },
    {
     "name": "stdout",
     "output_type": "stream",
     "text": [
      "Test Correct: 7898 Test Errors: 2102\n",
      "Train Correct: 39593 Train Error: 20407\n"
     ]
    },
    {
     "name": "stderr",
     "output_type": "stream",
     "text": [
      " 21%|████████▌                                | 42/200 [59:56<4:37:04, 105.22s/it]"
     ]
    },
    {
     "name": "stdout",
     "output_type": "stream",
     "text": [
      "Test Correct: 7895 Test Errors: 2105\n",
      "Train Correct: 39622 Train Error: 20378\n"
     ]
    },
    {
     "name": "stderr",
     "output_type": "stream",
     "text": [
      " 22%|████████▍                              | 43/200 [1:01:42<4:36:23, 105.62s/it]"
     ]
    },
    {
     "name": "stdout",
     "output_type": "stream",
     "text": [
      "Test Correct: 7896 Test Errors: 2104\n",
      "Train Correct: 39594 Train Error: 20406\n"
     ]
    },
    {
     "name": "stderr",
     "output_type": "stream",
     "text": [
      " 22%|████████▌                              | 44/200 [1:03:38<4:42:03, 108.49s/it]"
     ]
    },
    {
     "name": "stdout",
     "output_type": "stream",
     "text": [
      "Test Correct: 7896 Test Errors: 2104\n",
      "Train Correct: 39612 Train Error: 20388\n"
     ]
    },
    {
     "name": "stderr",
     "output_type": "stream",
     "text": [
      " 22%|████████▊                              | 45/200 [1:05:33<4:45:40, 110.58s/it]"
     ]
    },
    {
     "name": "stdout",
     "output_type": "stream",
     "text": [
      "Test Correct: 7895 Test Errors: 2105\n",
      "Train Correct: 39612 Train Error: 20388\n"
     ]
    },
    {
     "name": "stderr",
     "output_type": "stream",
     "text": [
      " 22%|█████████                               | 45/200 [1:07:37<3:52:57, 90.18s/it]\n"
     ]
    },
    {
     "ename": "KeyboardInterrupt",
     "evalue": "",
     "output_type": "error",
     "traceback": [
      "\u001b[0;31m---------------------------------------------------------------------------\u001b[0m",
      "\u001b[0;31mKeyboardInterrupt\u001b[0m                         Traceback (most recent call last)",
      "Cell \u001b[0;32mIn [42], line 156\u001b[0m\n\u001b[1;32m    154\u001b[0m \u001b[38;5;28;01mfor\u001b[39;00m ii \u001b[38;5;129;01min\u001b[39;00m \u001b[38;5;28mrange\u001b[39m(NumTestSamples):\n\u001b[1;32m    155\u001b[0m     x \u001b[38;5;241m=\u001b[39m test_sparse[ii]\n\u001b[0;32m--> 156\u001b[0m     TheActivations \u001b[38;5;241m=\u001b[39m (\u001b[43mTheMatrix\u001b[49m\u001b[43m \u001b[49m\u001b[38;5;241;43m@\u001b[39;49m\u001b[43m \u001b[49m\u001b[43mx\u001b[49m\u001b[38;5;241;43m.\u001b[39;49m\u001b[43mA\u001b[49m\u001b[38;5;241;43m.\u001b[39;49m\u001b[43mT\u001b[49m)\u001b[38;5;241m.\u001b[39mflatten()\n\u001b[1;32m    157\u001b[0m     TheTrueClass\u001b[38;5;241m=\u001b[39mClassLabelsTest[ii]\u001b[38;5;241m-\u001b[39m\u001b[38;5;241m1\u001b[39m\n\u001b[1;32m    158\u001b[0m     TheFirstActivation \u001b[38;5;241m=\u001b[39m TheActivations[\u001b[38;5;241m0\u001b[39m]\n",
      "\u001b[0;31mKeyboardInterrupt\u001b[0m: "
     ]
    }
   ],
   "source": [
    "for Dc2 in range(Dc2_start,Dc2_end+1,Dc2_step):\n",
    "    Dc2_ratioXY=1/Dc2\n",
    "    for Dc in range(Dc_start,Dc_end+1,Dc_step):\n",
    "        for Dc_ratioXY in range(Dc_ratioXY_start,Dc_ratioXY_end+1,Dc_ratioXY_step):\n",
    "            TestErrorsIterIseed = []\n",
    "            for seed in range(seed_start,seed_finish+1):\n",
    "                iseed = seed-seed_start+1\n",
    "                \n",
    "                \n",
    "                LimitMatrix = 0 # 1 use [0, ~360000] for weights, 0 - use + and - weights\n",
    "                TrainSparse = -1\n",
    "                code_sparse_flag = 1\n",
    "                p_drop = 0.0 #dropout\n",
    "                cast_do = 1\n",
    "                maxnorm_flag = -1 #2 #-1\n",
    "                \n",
    "                UseReadyMatrix = 0     # 1 - Use already trained matrix from file\n",
    "                ContinueTrainMatrix = 0# 1 - Continue training using matrix from file. Requires UseReadyMatrix = 0\n",
    "                StopTrain = 0.0 # fraction of first iteration errors to stop training # 0.01\n",
    "\n",
    "\n",
    "\n",
    "                # Training\n",
    "                #TDS = 0.7 # initial \"training defense space\"\n",
    "                TDS_decay = 0.009 # decreasing TDS #0.95 #0.9 #new version 18.01.2010\n",
    "                TDS_iter = 200 #50 # 5#??decreasing each TDS_iter iterations of training\n",
    "                delta = 1.0 # matrix increment - decrement step\n",
    "                #NumOfTrainingCycles = 50 #50\n",
    "                # Changed number of samples per iteration from mean to max to 14.01\n",
    "                InitMatrix = 0 # Initial matrix values. 0 or 1\n",
    "\n",
    "                cycleBegin = 1 \n",
    "                cycleEnd = 1 # è\n",
    "                \n",
    "                for cycle in range(cycleBegin,cycleEnd+1):\n",
    "                    # perm_all = prepare_permutations(y_dim,x_dim,Dc,Dc_ratioXY,N,seed,y2_dim,x2_dim,Dc2,Dc2_ratioXY,cyc)\n",
    "                    # perm_y_all = perm_all[0]\n",
    "                    # perm_x_all = perm_all[1]\n",
    "                    # perm_y_all1 = perm_all[2]\n",
    "                    # perm_x_all1 = perm_all[3]\n",
    "                    \n",
    "                    TestErrorsIterSplit = []\n",
    "                    NumTestSamplesPart = NumTestSamples / splitTest2parts\n",
    "                    num_shx = np.arange(-shx,shx+1,shx_step)\n",
    "                    num_shy = np.arange(-shy,shy+1,shy_step)\n",
    "                    num_shifts = num_shx.shape[-1] * num_shy.shape[-1]\n",
    "                    \n",
    "                    for spl in range(splitTest2parts+1):\n",
    "                        spVectors0TestShifts = []\n",
    "                        spVectors0Train_Lim = []\n",
    "                        if num_shifts == 1 and LimNum1s2nd < LimNum1s:\n",
    "                            spVectors0TestShifts_rows = []\n",
    "                            spVectors0TestShifts_cols = []\n",
    "                            \n",
    "#                             for m in tqdm(range(NumTestSamples)):\n",
    "#                                 ind = find(test_sparse[m])\n",
    "#                                 spVectors0TestShifts_rows+= [m]*len(ind[0][:LimNum1s2nd].tolist())\n",
    "#                                 spVectors0TestShifts_cols+=ind[1][:LimNum1s2nd].tolist()\n",
    "                            \n",
    "#                             spVectors0TestShifts = csc_matrix(([1]*len(spVectors0TestShifts_rows),\n",
    "#                                                                 (spVectors0TestShifts_rows,spVectors0TestShifts_cols)),\n",
    "#                                                                 shape=((NumTestSamples,N)),\n",
    "#                                                                 dtype=np.bool_\n",
    "#                                                             )\n",
    "#                             print(spVectors0TestShifts.shape)\n",
    "#                             spVectors0Train_Lim_rows = []\n",
    "#                             spVectors0Train_Lim_cols = []\n",
    "#                             for m in tqdm(range(NumTrainSamples)):\n",
    "#                                 ind = find(train_sparse[m])\n",
    "#                                 spVectors0Train_Lim_rows+= [m]*len(ind[0][:LimNum1s2nd].tolist())\n",
    "#                                 spVectors0Train_Lim_cols+=ind[1][:LimNum1s2nd].tolist()\n",
    "                            \n",
    "#                             spVectors0Train_Lim = csc_matrix(([1]*len(spVectors0Train_Lim_rows),\n",
    "#                                                                 (spVectors0Train_Lim_rows,spVectors0Train_Lim_cols)),\n",
    "#                                                                 shape=((NumTrainSamples,N)),\n",
    "#                                                                 dtype=np.bool_\n",
    "#                                                             )\n",
    "#                             print(spVectors0Train_Lim.shape)\n",
    "                        \n",
    "                        for TDS in np.arange(TDS_start,TDS_end+TDS_step,TDS_step):\n",
    "                            for Winner4shifts in range(1):\n",
    "                                for thrWinners in range(-1000,-999):\n",
    "                                    TheActivations0 = np.zeros([NumberOfClasses,1])\n",
    "                                    TheActivations = np.zeros([NumberOfClasses,1])\n",
    "                                    TheClasses = np.arange(NumberOfClasses)\n",
    "                                    \n",
    "                                    currentTDS = TDS\n",
    "                                    TrainingErrors = 0\n",
    "                                    TrainingCorrect = 0\n",
    "                                    tdsind = 0\n",
    "                                    TheMatrix = np.zeros((NumberOfClasses,N))\n",
    "                                    testErrorIter = []\n",
    "                                    perm = np.arange(NumTrainSamples)\n",
    "                                    for tc in tqdm(range(NumOfTrainingCycles)):\n",
    "                                        TrainingErrors = 0\n",
    "                                        TrainingCorrect = 0\n",
    "                                        if MakePrototypes == 1 and tc == 0:\n",
    "                                            for ppp in range(NumberOfClasses):\n",
    "                                                TheMatrix[ppp,:] = train_sparse[train_labels==ppp].sum(axis=0)/NumberOfClasses\n",
    "                                        else:\n",
    "                                            tce = 0\n",
    "                                            ClassLabels = np.copy(train_labels)\n",
    "                                            for fc in range(NumTrainSamples):\n",
    "                                                sample_num = perm[fc]\n",
    "                                                if code_sparse_flag == 1:\n",
    "                                                    x = train_sparse[sample_num]\n",
    "                                                    TheActivations0 = (TheMatrix @ x.A.T).flatten()\n",
    "                                                if maxnorm_flag == -1:\n",
    "                                                    TheActivations = TheActivations0\n",
    "                                                \n",
    "                                                TheTrueClass=ClassLabels[fc]\n",
    "                                                TheActivations[TheTrueClass] = TheActivations[TheTrueClass]*(1.0-currentTDS)\n",
    "                                                ind2unlearn = TheActivations > TheActivations[TheTrueClass]\n",
    "                                                \n",
    "                                                if TheActivations[0] > TheActivations[1]:\n",
    "                                                    TheFirstActivation  = TheActivations[0]\n",
    "                                                    TheFirstClass  = TheClasses[0]\n",
    "                                                else:\n",
    "                                                    TheFirstActivation  = TheActivations[1]\n",
    "                                                    TheFirstClass  = TheClasses[1]\n",
    "                                                \n",
    "                                                for i in range(1,NumberOfClasses):\n",
    "                                                    if TheActivations[i] > TheFirstActivation:\n",
    "                                                        TheFirstActivation = TheActivations[i]\n",
    "                                                        TheFirstClass = TheClasses[i]\n",
    "                                                if code_sparse_flag == 1:\n",
    "                                                    if TheFirstClass != TheTrueClass:\n",
    "                                                        TrainingErrors += 1\n",
    "                                                        tce += 1\n",
    "                                                        # nnz1  = x.count_nonzero()\n",
    "                                                        if MultiClassTraining == 1:\n",
    "                                                            TheMatrix[TheTrueClass,x.A.flatten()]  += delta\n",
    "                                                            num_wrong_class = sum(ind2unlearn.flatten())\n",
    "                                                            if num_wrong_class > 0:\n",
    "                                                                for r in ind2unlearn.flatten().nonzero()[0]:\n",
    "                                                                    TheMatrix[r ,x.A.flatten()] -= delta/num_wrong_class\n",
    "                                                            else:\n",
    "                                                                TheMatrix[:,x.A.flatten()] -= delta/10\n",
    "                                                    else:\n",
    "                                                        TrainingCorrect += 1\n",
    "                                                # if fc %1000==0:\n",
    "                                                #     print(fc,TrainingCorrect,TrainingErrors)\n",
    "                                        print(\"Train Correct:\",TrainingCorrect,\"Train Error:\",TrainingErrors)\n",
    "                                        \n",
    "                                        \n",
    "                                        TestErrors = 0\n",
    "                                        TestCorrect = 0\n",
    "                                        TestErrorsRel = 0\n",
    "                                        TestCorrectRel = 0\n",
    "                                        TheActivations = np.zeros([NumberOfClasses,1])\n",
    "                                        TheClasses = np.arange(NumberOfClasses)\n",
    "                                        ClassLabelsTest = test_labels\n",
    "                                        \n",
    "                                        for ii in range(NumTestSamples):\n",
    "                                            x = test_sparse[ii]\n",
    "                                            TheActivations = (TheMatrix @ x.A.T).flatten()\n",
    "                                            TheTrueClass=ClassLabelsTest[ii]\n",
    "                                            TheFirstActivation = TheActivations[0]\n",
    "                                            TheFirstClass = TheClasses[0]\n",
    "                                            for i in range(1,NumberOfClasses):\n",
    "                                                if TheActivations[i] > TheFirstActivation:\n",
    "                                                    TheFirstActivation = TheActivations[i]\n",
    "                                                    TheFirstClass = TheClasses[i]\n",
    "                                            if TheFirstClass != TheTrueClass:\n",
    "                                                TestErrors = TestErrors + 1\n",
    "                                            else:\n",
    "                                                TestCorrect = TestCorrect + 1\n",
    "                                        print(\"Test Correct:\", TestCorrect,\"Test Errors:\",TestErrors)\n",
    "                                        tdsind = tdsind + 1\n",
    "                                        if tdsind >= TDS_iter:\n",
    "                                            currentTDS = currentTDS *(1.0 - TDS_decay)\n",
    "                                            tdsind = 0\n"
   ]
  },
  {
   "cell_type": "code",
   "execution_count": 30,
   "id": "be308ea1-ae36-4350-bdaa-cf0618925798",
   "metadata": {
    "collapsed": true,
    "jupyter": {
     "outputs_hidden": true
    },
    "tags": []
   },
   "outputs": [
    {
     "name": "stdout",
     "output_type": "stream",
     "text": [
      "blas_mkl_info:\n",
      "    libraries = ['mkl_rt', 'pthread']\n",
      "    library_dirs = ['/Users/prathnayakam/opt/anaconda3/envs/idp/lib']\n",
      "    define_macros = [('SCIPY_MKL_H', None), ('HAVE_CBLAS', None)]\n",
      "    include_dirs = ['/Users/prathnayakam/opt/anaconda3/envs/idp/include']\n",
      "blas_opt_info:\n",
      "    libraries = ['mkl_rt', 'pthread']\n",
      "    library_dirs = ['/Users/prathnayakam/opt/anaconda3/envs/idp/lib']\n",
      "    define_macros = [('SCIPY_MKL_H', None), ('HAVE_CBLAS', None)]\n",
      "    include_dirs = ['/Users/prathnayakam/opt/anaconda3/envs/idp/include']\n",
      "lapack_mkl_info:\n",
      "    libraries = ['mkl_rt', 'pthread']\n",
      "    library_dirs = ['/Users/prathnayakam/opt/anaconda3/envs/idp/lib']\n",
      "    define_macros = [('SCIPY_MKL_H', None), ('HAVE_CBLAS', None)]\n",
      "    include_dirs = ['/Users/prathnayakam/opt/anaconda3/envs/idp/include']\n",
      "lapack_opt_info:\n",
      "    libraries = ['mkl_rt', 'pthread']\n",
      "    library_dirs = ['/Users/prathnayakam/opt/anaconda3/envs/idp/lib']\n",
      "    define_macros = [('SCIPY_MKL_H', None), ('HAVE_CBLAS', None)]\n",
      "    include_dirs = ['/Users/prathnayakam/opt/anaconda3/envs/idp/include']\n",
      "Supported SIMD extensions in this NumPy install:\n",
      "    baseline = SSE,SSE2,SSE3,SSSE3,SSE41,POPCNT,SSE42\n",
      "    found = AVX512_ICL\n",
      "    not found = \n"
     ]
    }
   ],
   "source": [
    "np.show_config()"
   ]
  },
  {
   "cell_type": "code",
   "execution_count": 104,
   "id": "f5491800-d9fc-4d59-b0a9-adc52a7ca08c",
   "metadata": {},
   "outputs": [
    {
     "data": {
      "text/plain": [
       "3252"
      ]
     },
     "execution_count": 104,
     "metadata": {},
     "output_type": "execute_result"
    }
   ],
   "source": [
    "train_sparse[0].count_nonzero()"
   ]
  },
  {
   "cell_type": "code",
   "execution_count": 66,
   "id": "e5dc4a6e-968b-4ac3-8960-7a6f6a015f33",
   "metadata": {},
   "outputs": [
    {
     "data": {
      "text/plain": [
       "(array([1, 2, 3, 4, 6, 7, 8]),)"
      ]
     },
     "execution_count": 66,
     "metadata": {},
     "output_type": "execute_result"
    }
   ],
   "source": [
    "ind2unlearn.flatten().nonzero()"
   ]
  },
  {
   "cell_type": "code",
   "execution_count": 29,
   "id": "9ac7408b-6cbd-4f47-949e-debe7b7d34df",
   "metadata": {},
   "outputs": [
    {
     "data": {
      "text/plain": [
       "((10, 1000000), (1000000,))"
      ]
     },
     "execution_count": 29,
     "metadata": {},
     "output_type": "execute_result"
    }
   ],
   "source": [
    "TheMatrix.shape,train_sparse[sample_num].A.T.flatten().shape"
   ]
  },
  {
   "cell_type": "code",
   "execution_count": 24,
   "id": "0fe061fb-6338-4f34-9474-5dd5df7930cf",
   "metadata": {},
   "outputs": [],
   "source": [
    "import scipy"
   ]
  },
  {
   "cell_type": "code",
   "execution_count": null,
   "id": "2f2b7571-db17-4362-993f-efe3fb15028e",
   "metadata": {},
   "outputs": [],
   "source": [
    "5.049883e-01"
   ]
  },
  {
   "cell_type": "code",
   "execution_count": 25,
   "id": "8909d4a6-885b-4508-a4d4-0572b28c1047",
   "metadata": {},
   "outputs": [
    {
     "name": "stdout",
     "output_type": "stream",
     "text": [
      "20.8 ms ± 192 µs per loop (mean ± std. dev. of 7 runs, 10 loops each)\n"
     ]
    }
   ],
   "source": [
    "%%timeit \n",
    "\n",
    "scipy.sparse.csr_matrix.dot(TheMatrix,train_sparse[sample_num].T)"
   ]
  },
  {
   "cell_type": "code",
   "execution_count": 26,
   "id": "2f59780c-e56a-46c8-9258-7516ee3b4cb1",
   "metadata": {},
   "outputs": [
    {
     "name": "stdout",
     "output_type": "stream",
     "text": [
      "3.5 ms ± 98.3 µs per loop (mean ± std. dev. of 7 runs, 100 loops each)\n"
     ]
    }
   ],
   "source": [
    "%%timeit\n",
    "\n",
    "TheMatrix@train_sparse[sample_num].A.T"
   ]
  },
  {
   "cell_type": "code",
   "execution_count": 35,
   "id": "6edbc001-227f-4139-bd02-6b1b63ad5c3e",
   "metadata": {},
   "outputs": [
    {
     "data": {
      "text/plain": [
       "<1x1000000 sparse matrix of type '<class 'numpy.bool_'>'\n",
       "\twith 2000 stored elements in Compressed Sparse Row format>"
      ]
     },
     "execution_count": 35,
     "metadata": {},
     "output_type": "execute_result"
    }
   ],
   "source": [
    "train_sparse[sample_num]"
   ]
  },
  {
   "cell_type": "code",
   "execution_count": 36,
   "id": "752d278d-2cd9-4ad4-b9e2-1d87e715a932",
   "metadata": {},
   "outputs": [],
   "source": [
    "def mult_dense_with_sparse(A, x):\n",
    "    return (A[:,x.nonzero()[0]] @ x.toarray()[x.nonzero()[0]]).T[0]"
   ]
  },
  {
   "cell_type": "code",
   "execution_count": 47,
   "id": "06fa1533-32c3-4e4d-8701-52a307581d2a",
   "metadata": {},
   "outputs": [
    {
     "name": "stdout",
     "output_type": "stream",
     "text": [
      "3.45 ms ± 654 µs per loop (mean ± std. dev. of 7 runs, 100 loops each)\n"
     ]
    }
   ],
   "source": [
    "%%timeit\n",
    "\n",
    "mult_dense_with_sparse(TheMatrix, train_sparse[sample_num].T)"
   ]
  },
  {
   "cell_type": "code",
   "execution_count": 38,
   "id": "554bd50f-a056-4123-aa75-0ea59b6635d8",
   "metadata": {},
   "outputs": [
    {
     "data": {
      "text/plain": [
       "array([[319006.48531746],\n",
       "       [244839.21785714],\n",
       "       [556435.94563492],\n",
       "       [396256.26666666],\n",
       "       [113686.8547619 ],\n",
       "       [240280.91626984],\n",
       "       [109071.56706349],\n",
       "       [347702.30952381],\n",
       "       [245196.03174603],\n",
       "       [238046.60515873]])"
      ]
     },
     "execution_count": 38,
     "metadata": {},
     "output_type": "execute_result"
    }
   ],
   "source": [
    "# %%timeit\n",
    "\n",
    "train_sparse[sample_num].dot(TheMatrix.T).T"
   ]
  },
  {
   "cell_type": "code",
   "execution_count": null,
   "id": "2995102f-f7d0-4ba0-b0cd-61919bc8ed17",
   "metadata": {},
   "outputs": [
    {
     "name": "stderr",
     "output_type": "stream",
     "text": [
      "  0%|                                                     | 0/200 [00:00<?, ?it/s]"
     ]
    },
    {
     "name": "stdout",
     "output_type": "stream",
     "text": [
      "Train Correct: 0 Train Error: 0\n"
     ]
    },
    {
     "name": "stderr",
     "output_type": "stream",
     "text": [
      "  0%|▏                                          | 1/200 [00:27<1:30:06, 27.17s/it]"
     ]
    },
    {
     "name": "stdout",
     "output_type": "stream",
     "text": [
      "Test Correct: 7675 Test Errors: 2325\n",
      "Train Correct: 32353 Train Error: 27647\n"
     ]
    },
    {
     "name": "stderr",
     "output_type": "stream",
     "text": [
      "  1%|▍                                        | 2/200 [11:25<21:54:30, 398.34s/it]"
     ]
    },
    {
     "name": "stdout",
     "output_type": "stream",
     "text": [
      "Test Correct: 9548 Test Errors: 452\n",
      "Train Correct: 44095 Train Error: 15905\n"
     ]
    },
    {
     "name": "stderr",
     "output_type": "stream",
     "text": [
      "  2%|▌                                        | 3/200 [18:16<22:07:34, 404.34s/it]"
     ]
    },
    {
     "name": "stdout",
     "output_type": "stream",
     "text": [
      "Test Correct: 9629 Test Errors: 371\n",
      "Train Correct: 47269 Train Error: 12731\n"
     ]
    },
    {
     "name": "stderr",
     "output_type": "stream",
     "text": [
      "  2%|▊                                        | 4/200 [23:30<20:03:46, 368.50s/it]"
     ]
    },
    {
     "name": "stdout",
     "output_type": "stream",
     "text": [
      "Test Correct: 9679 Test Errors: 321\n",
      "Train Correct: 48958 Train Error: 11042\n"
     ]
    },
    {
     "name": "stderr",
     "output_type": "stream",
     "text": [
      "  2%|█                                        | 5/200 [28:18<18:23:08, 339.43s/it]"
     ]
    },
    {
     "name": "stdout",
     "output_type": "stream",
     "text": [
      "Test Correct: 9708 Test Errors: 292\n",
      "Train Correct: 50002 Train Error: 9998\n"
     ]
    },
    {
     "name": "stderr",
     "output_type": "stream",
     "text": [
      "  3%|█▏                                       | 6/200 [32:52<17:06:20, 317.42s/it]"
     ]
    },
    {
     "name": "stdout",
     "output_type": "stream",
     "text": [
      "Test Correct: 9727 Test Errors: 273\n",
      "Train Correct: 50796 Train Error: 9204\n"
     ]
    },
    {
     "name": "stderr",
     "output_type": "stream",
     "text": [
      "  4%|█▍                                       | 7/200 [37:15<16:02:53, 299.34s/it]"
     ]
    },
    {
     "name": "stdout",
     "output_type": "stream",
     "text": [
      "Test Correct: 9736 Test Errors: 264\n",
      "Train Correct: 51419 Train Error: 8581\n"
     ]
    },
    {
     "name": "stderr",
     "output_type": "stream",
     "text": [
      "  4%|█▋                                       | 8/200 [41:28<15:10:51, 284.64s/it]"
     ]
    },
    {
     "name": "stdout",
     "output_type": "stream",
     "text": [
      "Test Correct: 9753 Test Errors: 247\n",
      "Train Correct: 51957 Train Error: 8043\n"
     ]
    },
    {
     "name": "stderr",
     "output_type": "stream",
     "text": [
      "  4%|█▊                                       | 9/200 [45:35<14:28:54, 272.95s/it]"
     ]
    },
    {
     "name": "stdout",
     "output_type": "stream",
     "text": [
      "Test Correct: 9765 Test Errors: 235\n",
      "Train Correct: 52341 Train Error: 7659\n"
     ]
    },
    {
     "name": "stderr",
     "output_type": "stream",
     "text": [
      "  5%|██                                      | 10/200 [50:05<14:21:18, 271.99s/it]"
     ]
    },
    {
     "name": "stdout",
     "output_type": "stream",
     "text": [
      "Test Correct: 9772 Test Errors: 228\n",
      "Train Correct: 52697 Train Error: 7303\n"
     ]
    },
    {
     "name": "stderr",
     "output_type": "stream",
     "text": [
      "  6%|██▏                                     | 11/200 [54:56<14:35:09, 277.83s/it]"
     ]
    },
    {
     "name": "stdout",
     "output_type": "stream",
     "text": [
      "Test Correct: 9776 Test Errors: 224\n",
      "Train Correct: 52982 Train Error: 7018\n"
     ]
    },
    {
     "name": "stderr",
     "output_type": "stream",
     "text": [
      "  6%|██▍                                     | 12/200 [58:52<13:50:34, 265.08s/it]"
     ]
    },
    {
     "name": "stdout",
     "output_type": "stream",
     "text": [
      "Test Correct: 9783 Test Errors: 217\n",
      "Train Correct: 53259 Train Error: 6741\n"
     ]
    },
    {
     "name": "stderr",
     "output_type": "stream",
     "text": [
      "  6%|██▍                                   | 13/200 [1:02:44<13:14:56, 255.06s/it]"
     ]
    },
    {
     "name": "stdout",
     "output_type": "stream",
     "text": [
      "Test Correct: 9791 Test Errors: 209\n",
      "Train Correct: 53501 Train Error: 6499\n"
     ]
    },
    {
     "name": "stderr",
     "output_type": "stream",
     "text": [
      "  7%|██▋                                   | 14/200 [1:06:30<12:44:03, 246.47s/it]"
     ]
    },
    {
     "name": "stdout",
     "output_type": "stream",
     "text": [
      "Test Correct: 9795 Test Errors: 205\n",
      "Train Correct: 53707 Train Error: 6293\n"
     ]
    },
    {
     "name": "stderr",
     "output_type": "stream",
     "text": [
      "  8%|██▊                                   | 15/200 [1:10:15<12:19:21, 239.79s/it]"
     ]
    },
    {
     "name": "stdout",
     "output_type": "stream",
     "text": [
      "Test Correct: 9799 Test Errors: 201\n",
      "Train Correct: 53872 Train Error: 6128\n"
     ]
    },
    {
     "name": "stderr",
     "output_type": "stream",
     "text": [
      "  8%|███                                   | 16/200 [1:13:59<12:00:37, 234.99s/it]"
     ]
    },
    {
     "name": "stdout",
     "output_type": "stream",
     "text": [
      "Test Correct: 9805 Test Errors: 195\n",
      "Train Correct: 54067 Train Error: 5933\n"
     ]
    },
    {
     "name": "stderr",
     "output_type": "stream",
     "text": [
      "  8%|███▏                                  | 17/200 [1:17:38<11:42:16, 230.25s/it]"
     ]
    },
    {
     "name": "stdout",
     "output_type": "stream",
     "text": [
      "Test Correct: 9807 Test Errors: 193\n",
      "Train Correct: 54269 Train Error: 5731\n"
     ]
    },
    {
     "name": "stderr",
     "output_type": "stream",
     "text": [
      "  9%|███▍                                  | 18/200 [1:21:14<11:25:39, 226.04s/it]"
     ]
    },
    {
     "name": "stdout",
     "output_type": "stream",
     "text": [
      "Test Correct: 9812 Test Errors: 188\n",
      "Train Correct: 54411 Train Error: 5589\n"
     ]
    },
    {
     "name": "stderr",
     "output_type": "stream",
     "text": [
      " 10%|███▌                                  | 19/200 [1:24:49<11:11:39, 222.65s/it]"
     ]
    },
    {
     "name": "stdout",
     "output_type": "stream",
     "text": [
      "Test Correct: 9818 Test Errors: 182\n",
      "Train Correct: 54572 Train Error: 5428\n"
     ]
    },
    {
     "name": "stderr",
     "output_type": "stream",
     "text": [
      " 10%|███▊                                  | 20/200 [1:28:23<11:00:01, 220.01s/it]"
     ]
    },
    {
     "name": "stdout",
     "output_type": "stream",
     "text": [
      "Test Correct: 9822 Test Errors: 178\n",
      "Train Correct: 54723 Train Error: 5277\n"
     ]
    },
    {
     "name": "stderr",
     "output_type": "stream",
     "text": [
      " 10%|███▉                                  | 21/200 [1:32:07<10:59:49, 221.17s/it]"
     ]
    },
    {
     "name": "stdout",
     "output_type": "stream",
     "text": [
      "Test Correct: 9826 Test Errors: 174\n",
      "Train Correct: 54856 Train Error: 5144\n"
     ]
    },
    {
     "name": "stderr",
     "output_type": "stream",
     "text": [
      " 11%|████▏                                 | 22/200 [1:35:36<10:45:56, 217.73s/it]"
     ]
    },
    {
     "name": "stdout",
     "output_type": "stream",
     "text": [
      "Test Correct: 9829 Test Errors: 171\n",
      "Train Correct: 54963 Train Error: 5037\n"
     ]
    },
    {
     "name": "stderr",
     "output_type": "stream",
     "text": [
      " 12%|████▎                                 | 23/200 [1:39:05<10:34:05, 214.94s/it]"
     ]
    },
    {
     "name": "stdout",
     "output_type": "stream",
     "text": [
      "Test Correct: 9832 Test Errors: 168\n",
      "Train Correct: 55057 Train Error: 4943\n"
     ]
    },
    {
     "name": "stderr",
     "output_type": "stream",
     "text": [
      " 12%|████▌                                 | 24/200 [1:42:34<10:25:44, 213.32s/it]"
     ]
    },
    {
     "name": "stdout",
     "output_type": "stream",
     "text": [
      "Test Correct: 9835 Test Errors: 165\n",
      "Train Correct: 55186 Train Error: 4814\n"
     ]
    },
    {
     "name": "stderr",
     "output_type": "stream",
     "text": [
      " 12%|████▊                                 | 25/200 [1:46:00<10:15:22, 210.98s/it]"
     ]
    },
    {
     "name": "stdout",
     "output_type": "stream",
     "text": [
      "Test Correct: 9839 Test Errors: 161\n",
      "Train Correct: 55294 Train Error: 4706\n"
     ]
    },
    {
     "name": "stderr",
     "output_type": "stream",
     "text": [
      " 13%|████▉                                 | 26/200 [1:49:24<10:05:55, 208.94s/it]"
     ]
    },
    {
     "name": "stdout",
     "output_type": "stream",
     "text": [
      "Test Correct: 9842 Test Errors: 158\n",
      "Train Correct: 55384 Train Error: 4616\n"
     ]
    },
    {
     "name": "stderr",
     "output_type": "stream",
     "text": [
      " 14%|█████▎                                 | 27/200 [1:52:48<9:58:25, 207.54s/it]"
     ]
    },
    {
     "name": "stdout",
     "output_type": "stream",
     "text": [
      "Test Correct: 9842 Test Errors: 158\n",
      "Train Correct: 55466 Train Error: 4534\n"
     ]
    },
    {
     "name": "stderr",
     "output_type": "stream",
     "text": [
      " 14%|█████▍                                 | 28/200 [1:56:12<9:51:32, 206.35s/it]"
     ]
    },
    {
     "name": "stdout",
     "output_type": "stream",
     "text": [
      "Test Correct: 9845 Test Errors: 155\n",
      "Train Correct: 55568 Train Error: 4432\n"
     ]
    },
    {
     "name": "stderr",
     "output_type": "stream",
     "text": [
      " 14%|█████▋                                 | 29/200 [1:59:38<9:47:50, 206.26s/it]"
     ]
    },
    {
     "name": "stdout",
     "output_type": "stream",
     "text": [
      "Test Correct: 9846 Test Errors: 154\n",
      "Train Correct: 55661 Train Error: 4339\n"
     ]
    },
    {
     "name": "stderr",
     "output_type": "stream",
     "text": [
      " 15%|█████▌                               | 30/200 [2:58:17<56:40:32, 1200.19s/it]"
     ]
    },
    {
     "name": "stdout",
     "output_type": "stream",
     "text": [
      "Test Correct: 9845 Test Errors: 155\n",
      "Train Correct: 55708 Train Error: 4292\n"
     ]
    },
    {
     "name": "stderr",
     "output_type": "stream",
     "text": [
      " 16%|█████▉                                | 31/200 [3:02:08<42:41:39, 909.46s/it]"
     ]
    },
    {
     "name": "stdout",
     "output_type": "stream",
     "text": [
      "Test Correct: 9846 Test Errors: 154\n",
      "Train Correct: 55811 Train Error: 4189\n"
     ]
    },
    {
     "name": "stderr",
     "output_type": "stream",
     "text": [
      " 16%|██████                                | 32/200 [3:06:09<33:04:30, 708.75s/it]"
     ]
    },
    {
     "name": "stdout",
     "output_type": "stream",
     "text": [
      "Test Correct: 9848 Test Errors: 152\n",
      "Train Correct: 55864 Train Error: 4136\n"
     ]
    },
    {
     "name": "stderr",
     "output_type": "stream",
     "text": [
      " 16%|██████▎                               | 33/200 [3:10:14<26:25:43, 569.72s/it]"
     ]
    },
    {
     "name": "stdout",
     "output_type": "stream",
     "text": [
      "Test Correct: 9847 Test Errors: 153\n",
      "Train Correct: 55966 Train Error: 4034\n"
     ]
    },
    {
     "name": "stderr",
     "output_type": "stream",
     "text": [
      " 17%|██████▍                               | 34/200 [3:14:16<21:44:04, 471.35s/it]"
     ]
    },
    {
     "name": "stdout",
     "output_type": "stream",
     "text": [
      "Test Correct: 9850 Test Errors: 150\n",
      "Train Correct: 55998 Train Error: 4002\n"
     ]
    },
    {
     "name": "stderr",
     "output_type": "stream",
     "text": [
      " 18%|██████▋                               | 35/200 [3:18:17<18:26:26, 402.34s/it]"
     ]
    },
    {
     "name": "stdout",
     "output_type": "stream",
     "text": [
      "Test Correct: 9849 Test Errors: 151\n",
      "Train Correct: 56099 Train Error: 3901\n"
     ]
    },
    {
     "name": "stderr",
     "output_type": "stream",
     "text": [
      " 18%|██████                            | 36/200 [13:51:17<531:53:15, 11675.58s/it]"
     ]
    },
    {
     "name": "stdout",
     "output_type": "stream",
     "text": [
      "Test Correct: 9852 Test Errors: 148\n",
      "Train Correct: 56142 Train Error: 3858\n"
     ]
    },
    {
     "name": "stderr",
     "output_type": "stream",
     "text": [
      " 18%|██████▍                            | 37/200 [14:11:06<386:11:55, 8529.55s/it]"
     ]
    },
    {
     "name": "stdout",
     "output_type": "stream",
     "text": [
      "Test Correct: 9854 Test Errors: 146\n",
      "Train Correct: 56221 Train Error: 3779\n"
     ]
    },
    {
     "name": "stderr",
     "output_type": "stream",
     "text": [
      " 19%|██████▋                            | 38/200 [14:14:27<271:24:08, 6031.17s/it]"
     ]
    },
    {
     "name": "stdout",
     "output_type": "stream",
     "text": [
      "Test Correct: 9855 Test Errors: 145\n",
      "Train Correct: 56272 Train Error: 3728\n"
     ]
    }
   ],
   "source": [
    "for Dc2 in range(Dc2_start,Dc2_end+1,Dc2_step):\n",
    "    Dc2_ratioXY=1/Dc2\n",
    "    for Dc in range(Dc_start,Dc_end+1,Dc_step):\n",
    "        for Dc_ratioXY in range(Dc_ratioXY_start,Dc_ratioXY_end+1,Dc_ratioXY_step):\n",
    "            TestErrorsIterIseed = []\n",
    "            for seed in range(seed_start,seed_finish+1):\n",
    "                iseed = seed-seed_start+1\n",
    "                \n",
    "                \n",
    "                LimitMatrix = 0 # 1 use [0, ~360000] for weights, 0 - use + and - weights\n",
    "                TrainSparse = -1\n",
    "                code_sparse_flag = 1\n",
    "                p_drop = 0.0 #dropout\n",
    "                cast_do = 1\n",
    "                maxnorm_flag = -1 #2 #-1\n",
    "                \n",
    "                UseReadyMatrix = 0     # 1 - Use already trained matrix from file\n",
    "                ContinueTrainMatrix = 0# 1 - Continue training using matrix from file. Requires UseReadyMatrix = 0\n",
    "                StopTrain = 0.0 # fraction of first iteration errors to stop training # 0.01\n",
    "\n",
    "\n",
    "\n",
    "                # Training\n",
    "                #TDS = 0.7 # initial \"training defense space\"\n",
    "                TDS_decay = 0.009 # decreasing TDS #0.95 #0.9 #new version 18.01.2010\n",
    "                TDS_iter = 200 #50 # 5#??decreasing each TDS_iter iterations of training\n",
    "                delta = 1.0 # matrix increment - decrement step\n",
    "                #NumOfTrainingCycles = 50 #50\n",
    "                # Changed number of samples per iteration from mean to max to 14.01\n",
    "                InitMatrix = 0 # Initial matrix values. 0 or 1\n",
    "\n",
    "                cycleBegin = 1 \n",
    "                cycleEnd = 1 # è\n",
    "                \n",
    "                for cycle in range(cycleBegin,cycleEnd+1):\n",
    "                    # perm_all = prepare_permutations(y_dim,x_dim,Dc,Dc_ratioXY,N,seed,y2_dim,x2_dim,Dc2,Dc2_ratioXY,cyc)\n",
    "                    # perm_y_all = perm_all[0]\n",
    "                    # perm_x_all = perm_all[1]\n",
    "                    # perm_y_all1 = perm_all[2]\n",
    "                    # perm_x_all1 = perm_all[3]\n",
    "                    \n",
    "                    TestErrorsIterSplit = []\n",
    "                    NumTestSamplesPart = NumTestSamples / splitTest2parts\n",
    "                    num_shx = np.arange(-shx,shx+1,shx_step)\n",
    "                    num_shy = np.arange(-shy,shy+1,shy_step)\n",
    "                    num_shifts = num_shx.shape[-1] * num_shy.shape[-1]\n",
    "                    \n",
    "                    for spl in range(splitTest2parts+1):\n",
    "                        spVectors0TestShifts = []\n",
    "                        spVectors0Train_Lim = []\n",
    "                        if num_shifts == 1 and LimNum1s2nd < LimNum1s:\n",
    "                            spVectors0TestShifts_rows = []\n",
    "                            spVectors0TestShifts_cols = []\n",
    "                            \n",
    "#                             for m in tqdm(range(NumTestSamples)):\n",
    "#                                 ind = find(test_sparse[m])\n",
    "#                                 spVectors0TestShifts_rows+= [m]*len(ind[0][:LimNum1s2nd].tolist())\n",
    "#                                 spVectors0TestShifts_cols+=ind[1][:LimNum1s2nd].tolist()\n",
    "                            \n",
    "#                             spVectors0TestShifts = csc_matrix(([1]*len(spVectors0TestShifts_rows),\n",
    "#                                                                 (spVectors0TestShifts_rows,spVectors0TestShifts_cols)),\n",
    "#                                                                 shape=((NumTestSamples,N)),\n",
    "#                                                                 dtype=np.bool_\n",
    "#                                                             )\n",
    "#                             print(spVectors0TestShifts.shape)\n",
    "#                             spVectors0Train_Lim_rows = []\n",
    "#                             spVectors0Train_Lim_cols = []\n",
    "#                             for m in tqdm(range(NumTrainSamples)):\n",
    "#                                 ind = find(train_sparse[m])\n",
    "#                                 spVectors0Train_Lim_rows+= [m]*len(ind[0][:LimNum1s2nd].tolist())\n",
    "#                                 spVectors0Train_Lim_cols+=ind[1][:LimNum1s2nd].tolist()\n",
    "                            \n",
    "#                             spVectors0Train_Lim = csc_matrix(([1]*len(spVectors0Train_Lim_rows),\n",
    "#                                                                 (spVectors0Train_Lim_rows,spVectors0Train_Lim_cols)),\n",
    "#                                                                 shape=((NumTrainSamples,N)),\n",
    "#                                                                 dtype=np.bool_\n",
    "#                                                             )\n",
    "#                             print(spVectors0Train_Lim.shape)\n",
    "                        \n",
    "                        for TDS in np.arange(TDS_start,TDS_end+TDS_step,TDS_step):\n",
    "                            for Winner4shifts in range(1):\n",
    "                                for thrWinners in range(-1000,-999):\n",
    "                                    TheActivations0 = np.zeros([NumberOfClasses,1])\n",
    "                                    TheActivations = np.zeros([NumberOfClasses,1])\n",
    "                                    TheClasses = np.arange(NumberOfClasses)\n",
    "                                    \n",
    "                                    currentTDS = TDS\n",
    "                                    TrainingErrors = 0\n",
    "                                    TrainingCorrect = 0\n",
    "                                    tdsind = 0\n",
    "                                    TheMatrix = np.zeros((NumberOfClasses,N),dtype=np.float32)\n",
    "                                    testErrorIter = []\n",
    "                                    perm = np.arange(NumTrainSamples)\n",
    "                                    for tc in tqdm(range(NumOfTrainingCycles)):\n",
    "                                        TrainingErrors = 0\n",
    "                                        TrainingCorrect = 0\n",
    "                                        if MakePrototypes == 1 and tc == 0:\n",
    "                                            for ppp in range(NumberOfClasses):\n",
    "                                                TheMatrix[ppp,:] = train_sparse[train_labels==ppp].sum(axis=0)/NumberOfClasses\n",
    "                                        else:\n",
    "                                            tce = 0\n",
    "                                            ClassLabels = np.copy(train_labels)\n",
    "                                            for fc in range(NumTrainSamples):\n",
    "                                                sample_num = perm[fc]\n",
    "                                                if code_sparse_flag == 1:\n",
    "                                                    x = train_sparse[sample_num]\n",
    "                                                    # TheActivations0 = (TheMatrix @ x.A.T).flatten()\n",
    "                                                    TheActivations0 = mult_dense_with_sparse(TheMatrix, x.T)\n",
    "                                                if maxnorm_flag == -1:\n",
    "                                                    TheActivations = TheActivations0\n",
    "                                                \n",
    "                                                TheTrueClass=ClassLabels[fc]\n",
    "                                                TheActivations[TheTrueClass] = TheActivations[TheTrueClass]*(1.0-currentTDS)\n",
    "                                                ind2unlearn = TheActivations > TheActivations[TheTrueClass]\n",
    "                                                \n",
    "                                                if TheActivations[0] > TheActivations[1]:\n",
    "                                                    TheFirstActivation  = TheActivations[0]\n",
    "                                                    TheFirstClass  = TheClasses[0]\n",
    "                                                else:\n",
    "                                                    TheFirstActivation  = TheActivations[1]\n",
    "                                                    TheFirstClass  = TheClasses[1]\n",
    "                                                \n",
    "                                                for i in range(1,NumberOfClasses):\n",
    "                                                    if TheActivations[i] > TheFirstActivation:\n",
    "                                                        TheFirstActivation = TheActivations[i]\n",
    "                                                        TheFirstClass = TheClasses[i]\n",
    "                                                if code_sparse_flag == 1:\n",
    "                                                    if TheFirstClass != TheTrueClass:\n",
    "                                                        TrainingErrors += 1\n",
    "                                                        tce += 1\n",
    "                                                        # nnz1  = x.count_nonzero()\n",
    "                                                        if MultiClassTraining == 1:\n",
    "                                                            TheMatrix[TheTrueClass,x.A.flatten()]  += delta\n",
    "                                                            num_wrong_class = sum(ind2unlearn.flatten())\n",
    "                                                            if num_wrong_class > 0:\n",
    "                                                                for r in ind2unlearn.flatten().nonzero()[0]:\n",
    "                                                                    TheMatrix[r ,x.A.flatten()] -= delta/num_wrong_class\n",
    "                                                            else:\n",
    "                                                                TheMatrix[:,x.A.flatten()] -= delta/10\n",
    "                                                    else:\n",
    "                                                        TrainingCorrect += 1\n",
    "                                                # if fc %1000==0:\n",
    "                                                #     print(fc,TrainingCorrect,TrainingErrors)\n",
    "                                        print(\"Train Correct:\",TrainingCorrect,\"Train Error:\",TrainingErrors)\n",
    "                                        \n",
    "                                        \n",
    "                                        TestErrors = 0\n",
    "                                        TestCorrect = 0\n",
    "                                        TestErrorsRel = 0\n",
    "                                        TestCorrectRel = 0\n",
    "                                        TheActivations = np.zeros([NumberOfClasses,1])\n",
    "                                        TheClasses = np.arange(NumberOfClasses)\n",
    "                                        ClassLabelsTest = test_labels\n",
    "                                        \n",
    "                                        for ii in range(NumTestSamples):\n",
    "                                            x = test_sparse[ii]\n",
    "                                            TheActivations = mult_dense_with_sparse(TheMatrix, x.T)\n",
    "                                            TheTrueClass=ClassLabelsTest[ii]\n",
    "                                            TheFirstActivation = TheActivations[0]\n",
    "                                            TheFirstClass = TheClasses[0]\n",
    "                                            for i in range(1,NumberOfClasses):\n",
    "                                                if TheActivations[i] > TheFirstActivation:\n",
    "                                                    TheFirstActivation = TheActivations[i]\n",
    "                                                    TheFirstClass = TheClasses[i]\n",
    "                                            if TheFirstClass != TheTrueClass:\n",
    "                                                TestErrors = TestErrors + 1\n",
    "                                            else:\n",
    "                                                TestCorrect = TestCorrect + 1\n",
    "                                        print(\"Test Correct:\", TestCorrect,\"Test Errors:\",TestErrors)\n",
    "                                        tdsind = tdsind + 1\n",
    "                                        if tdsind >= TDS_iter:\n",
    "                                            currentTDS = currentTDS *(1.0 - TDS_decay)\n",
    "                                            tdsind = 0\n"
   ]
  },
  {
   "cell_type": "code",
   "execution_count": null,
   "id": "17b2614c-e0f2-4bb2-94a6-865d938c03dc",
   "metadata": {},
   "outputs": [],
   "source": []
  }
 ],
 "metadata": {
  "kernelspec": {
   "display_name": "Python 3 (ipykernel)",
   "language": "python",
   "name": "python3"
  },
  "language_info": {
   "codemirror_mode": {
    "name": "ipython",
    "version": 3
   },
   "file_extension": ".py",
   "mimetype": "text/x-python",
   "name": "python",
   "nbconvert_exporter": "python",
   "pygments_lexer": "ipython3",
   "version": "3.8.13"
  }
 },
 "nbformat": 4,
 "nbformat_minor": 5
}
