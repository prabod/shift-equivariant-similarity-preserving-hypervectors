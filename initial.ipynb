{
 "cells": [
  {
   "cell_type": "code",
   "execution_count": 101,
   "id": "aacecaa5-22d4-4b9f-8c5b-bfff685cdfe9",
   "metadata": {},
   "outputs": [],
   "source": [
    "import numpy as np\n",
    "import pandas as pd\n",
    "from scipy.sparse import csc_array\n",
    "import matplotlib.pyplot as plt\n",
    "from tqdm import tqdm"
   ]
  },
  {
   "cell_type": "code",
   "execution_count": 2,
   "id": "7616e675-1d62-4a7a-bc02-6b083006ff5e",
   "metadata": {},
   "outputs": [],
   "source": [
    "train_images = np.load(\"mnist_c_identity/train_images.npy\")\n",
    "train_labels = np.load(\"mnist_c_identity/train_labels.npy\")\n",
    "\n",
    "test_images = np.load(\"mnist_c_identity/test_images.npy\")\n",
    "test_labels = np.load(\"mnist_c_identity/test_labels.npy\")"
   ]
  },
  {
   "cell_type": "code",
   "execution_count": 111,
   "id": "8cbb0650-c704-4b10-b3a8-af5476398ac7",
   "metadata": {
    "tags": []
   },
   "outputs": [
    {
     "data": {
      "text/plain": [
       "(60000, 28, 28, 1)"
      ]
     },
     "execution_count": 111,
     "metadata": {},
     "output_type": "execute_result"
    }
   ],
   "source": [
    "train_images.shape"
   ]
  },
  {
   "cell_type": "code",
   "execution_count": 7,
   "id": "0bc0a5a4-b12b-46ae-8b6b-268ac657bcfc",
   "metadata": {},
   "outputs": [],
   "source": [
    "def rolling_window(a, shape):\n",
    "    s = (a.shape[0] - shape[0] + 1,) + (a.shape[1] - shape[1] + 1,) + shape\n",
    "    strides = a.strides + a.strides\n",
    "    return np.lib.stride_tricks.as_strided(a, shape=s, strides=strides)\n",
    "\n",
    "def window2(arr, shape=(3, 3)):\n",
    "    r_extra = np.floor(shape[0] / 2).astype(int)\n",
    "    c_extra = np.floor(shape[1] / 2).astype(int)\n",
    "    out = np.empty((arr.shape[0] + 2 * r_extra, arr.shape[1] + 2 * c_extra))\n",
    "    out[:] = np.nan\n",
    "    out[r_extra:-r_extra, c_extra:-c_extra] = arr\n",
    "    view = rolling_window(out, shape)\n",
    "    return view"
   ]
  },
  {
   "cell_type": "code",
   "execution_count": 112,
   "id": "790f9acf-4632-4166-8838-e8b13dc7e9d1",
   "metadata": {
    "collapsed": true,
    "jupyter": {
     "outputs_hidden": true
    },
    "tags": []
   },
   "outputs": [
    {
     "ename": "ValueError",
     "evalue": "could not broadcast input array from shape (60000,28,28,1) into shape (60000,28)",
     "output_type": "error",
     "traceback": [
      "\u001b[0;31m---------------------------------------------------------------------------\u001b[0m",
      "\u001b[0;31mValueError\u001b[0m                                Traceback (most recent call last)",
      "Input \u001b[0;32mIn [112]\u001b[0m, in \u001b[0;36m<cell line: 1>\u001b[0;34m()\u001b[0m\n\u001b[0;32m----> 1\u001b[0m patches \u001b[38;5;241m=\u001b[39m \u001b[43mwindow2\u001b[49m\u001b[43m(\u001b[49m\u001b[43mtrain_images\u001b[49m\u001b[43m,\u001b[49m\u001b[43m(\u001b[49m\u001b[38;5;241;43m5\u001b[39;49m\u001b[43m,\u001b[49m\u001b[38;5;241;43m5\u001b[39;49m\u001b[43m)\u001b[49m\u001b[43m)\u001b[49m\n",
      "Input \u001b[0;32mIn [7]\u001b[0m, in \u001b[0;36mwindow2\u001b[0;34m(arr, shape)\u001b[0m\n\u001b[1;32m      9\u001b[0m out \u001b[38;5;241m=\u001b[39m np\u001b[38;5;241m.\u001b[39mempty((arr\u001b[38;5;241m.\u001b[39mshape[\u001b[38;5;241m0\u001b[39m] \u001b[38;5;241m+\u001b[39m \u001b[38;5;241m2\u001b[39m \u001b[38;5;241m*\u001b[39m r_extra, arr\u001b[38;5;241m.\u001b[39mshape[\u001b[38;5;241m1\u001b[39m] \u001b[38;5;241m+\u001b[39m \u001b[38;5;241m2\u001b[39m \u001b[38;5;241m*\u001b[39m c_extra))\n\u001b[1;32m     10\u001b[0m out[:] \u001b[38;5;241m=\u001b[39m np\u001b[38;5;241m.\u001b[39mnan\n\u001b[0;32m---> 11\u001b[0m \u001b[43mout\u001b[49m\u001b[43m[\u001b[49m\u001b[43mr_extra\u001b[49m\u001b[43m:\u001b[49m\u001b[38;5;241;43m-\u001b[39;49m\u001b[43mr_extra\u001b[49m\u001b[43m,\u001b[49m\u001b[43m \u001b[49m\u001b[43mc_extra\u001b[49m\u001b[43m:\u001b[49m\u001b[38;5;241;43m-\u001b[39;49m\u001b[43mc_extra\u001b[49m\u001b[43m]\u001b[49m \u001b[38;5;241m=\u001b[39m arr\n\u001b[1;32m     12\u001b[0m view \u001b[38;5;241m=\u001b[39m rolling_window(out, shape)\n\u001b[1;32m     13\u001b[0m \u001b[38;5;28;01mreturn\u001b[39;00m view\n",
      "\u001b[0;31mValueError\u001b[0m: could not broadcast input array from shape (60000,28,28,1) into shape (60000,28)"
     ]
    }
   ],
   "source": [
    "patches = window2(train_images,(5,5))"
   ]
  },
  {
   "cell_type": "code",
   "execution_count": 18,
   "id": "e9ca3510-f2db-48a1-92d5-57232dc06907",
   "metadata": {
    "tags": []
   },
   "outputs": [],
   "source": [
    "row = []\n",
    "col = []\n",
    "data = np.array([1]*9)\n",
    "for i in range(0,5,2):\n",
    "    for j in range(0,5,2):\n",
    "        row.append(i)\n",
    "        col.append(j)\n",
    "row = np.array(row)\n",
    "col = np.array(col)\n",
    "mask = csc_array((data, (row, col)), shape=(5, 5)).toarray()"
   ]
  },
  {
   "cell_type": "code",
   "execution_count": 91,
   "id": "a327d487-f1c1-44c3-bfd0-ff402b3f232b",
   "metadata": {},
   "outputs": [],
   "source": [
    "def LBP(patch,mask_idx,pad=0):\n",
    "    rows,cols = mask_idx\n",
    "    bits = np.nan_to_num(patch,nan=pad)[rows,cols]\n",
    "    median_bit = np.median(bits)\n",
    "    bits -= median_bit\n",
    "    bits = np.clip(bits, 0, 1)\n",
    "    bits = np.array([bits])\n",
    "    return bits.dot(1 << np.arange(bits.shape[-1] - 1, -1, -1))[0]\n",
    "    "
   ]
  },
  {
   "cell_type": "code",
   "execution_count": 104,
   "id": "57917d01-4f2b-45ef-9b54-932a765af075",
   "metadata": {
    "tags": []
   },
   "outputs": [],
   "source": [
    "def get_lbp_features(image):\n",
    "    lbp_features = []\n",
    "    for e in window2(image.reshape(28,28),(5,5)):\n",
    "        for f in e:\n",
    "            lbp_features.append(LBP(f,[row,col]))\n",
    "    return np.array(lbp_features).reshape(28,28)"
   ]
  },
  {
   "cell_type": "code",
   "execution_count": 105,
   "id": "387257e5-41a2-403a-b3a0-7148fb7d1670",
   "metadata": {
    "collapsed": true,
    "jupyter": {
     "outputs_hidden": true
    },
    "tags": []
   },
   "outputs": [
    {
     "name": "stderr",
     "output_type": "stream",
     "text": [
      "  0%|          | 275/60000 [00:16<58:50, 16.92it/s]  \n"
     ]
    },
    {
     "ename": "KeyboardInterrupt",
     "evalue": "",
     "output_type": "error",
     "traceback": [
      "\u001b[0;31m---------------------------------------------------------------------------\u001b[0m",
      "\u001b[0;31mKeyboardInterrupt\u001b[0m                         Traceback (most recent call last)",
      "Input \u001b[0;32mIn [105]\u001b[0m, in \u001b[0;36m<cell line: 3>\u001b[0;34m()\u001b[0m\n\u001b[1;32m      1\u001b[0m all_lbp_features_train \u001b[38;5;241m=\u001b[39m []\n\u001b[1;32m      3\u001b[0m \u001b[38;5;28;01mfor\u001b[39;00m each \u001b[38;5;129;01min\u001b[39;00m tqdm(train_images):\n\u001b[0;32m----> 4\u001b[0m     all_lbp_features_train\u001b[38;5;241m.\u001b[39mappend(\u001b[43mget_lbp_features\u001b[49m\u001b[43m(\u001b[49m\u001b[43meach\u001b[49m\u001b[43m)\u001b[49m)\n",
      "Input \u001b[0;32mIn [104]\u001b[0m, in \u001b[0;36mget_lbp_features\u001b[0;34m(image)\u001b[0m\n\u001b[1;32m      3\u001b[0m \u001b[38;5;28;01mfor\u001b[39;00m e \u001b[38;5;129;01min\u001b[39;00m window2(image\u001b[38;5;241m.\u001b[39mreshape(\u001b[38;5;241m28\u001b[39m,\u001b[38;5;241m28\u001b[39m),(\u001b[38;5;241m5\u001b[39m,\u001b[38;5;241m5\u001b[39m)):\n\u001b[1;32m      4\u001b[0m     \u001b[38;5;28;01mfor\u001b[39;00m f \u001b[38;5;129;01min\u001b[39;00m e:\n\u001b[0;32m----> 5\u001b[0m         lbp_features\u001b[38;5;241m.\u001b[39mappend(\u001b[43mLBP\u001b[49m\u001b[43m(\u001b[49m\u001b[43mf\u001b[49m\u001b[43m,\u001b[49m\u001b[43m[\u001b[49m\u001b[43mrow\u001b[49m\u001b[43m,\u001b[49m\u001b[43mcol\u001b[49m\u001b[43m]\u001b[49m\u001b[43m)\u001b[49m)\n\u001b[1;32m      6\u001b[0m \u001b[38;5;28;01mreturn\u001b[39;00m np\u001b[38;5;241m.\u001b[39marray(lbp_features)\u001b[38;5;241m.\u001b[39mreshape(\u001b[38;5;241m28\u001b[39m,\u001b[38;5;241m28\u001b[39m)\n",
      "Input \u001b[0;32mIn [91]\u001b[0m, in \u001b[0;36mLBP\u001b[0;34m(patch, mask_idx, pad)\u001b[0m\n\u001b[1;32m      2\u001b[0m rows,cols \u001b[38;5;241m=\u001b[39m mask_idx\n\u001b[1;32m      3\u001b[0m bits \u001b[38;5;241m=\u001b[39m np\u001b[38;5;241m.\u001b[39mnan_to_num(patch,nan\u001b[38;5;241m=\u001b[39mpad)[rows,cols]\n\u001b[0;32m----> 4\u001b[0m median_bit \u001b[38;5;241m=\u001b[39m \u001b[43mnp\u001b[49m\u001b[38;5;241;43m.\u001b[39;49m\u001b[43mmedian\u001b[49m\u001b[43m(\u001b[49m\u001b[43mbits\u001b[49m\u001b[43m)\u001b[49m\n\u001b[1;32m      5\u001b[0m bits \u001b[38;5;241m-\u001b[39m\u001b[38;5;241m=\u001b[39m median_bit\n\u001b[1;32m      6\u001b[0m bits \u001b[38;5;241m=\u001b[39m np\u001b[38;5;241m.\u001b[39mclip(bits, \u001b[38;5;241m0\u001b[39m, \u001b[38;5;241m1\u001b[39m)\n",
      "File \u001b[0;32m<__array_function__ internals>:180\u001b[0m, in \u001b[0;36mmedian\u001b[0;34m(*args, **kwargs)\u001b[0m\n",
      "File \u001b[0;32m~/opt/anaconda3/envs/ImageEncoding/lib/python3.8/site-packages/numpy/lib/function_base.py:3816\u001b[0m, in \u001b[0;36mmedian\u001b[0;34m(a, axis, out, overwrite_input, keepdims)\u001b[0m\n\u001b[1;32m   3734\u001b[0m \u001b[38;5;129m@array_function_dispatch\u001b[39m(_median_dispatcher)\n\u001b[1;32m   3735\u001b[0m \u001b[38;5;28;01mdef\u001b[39;00m \u001b[38;5;21mmedian\u001b[39m(a, axis\u001b[38;5;241m=\u001b[39m\u001b[38;5;28;01mNone\u001b[39;00m, out\u001b[38;5;241m=\u001b[39m\u001b[38;5;28;01mNone\u001b[39;00m, overwrite_input\u001b[38;5;241m=\u001b[39m\u001b[38;5;28;01mFalse\u001b[39;00m, keepdims\u001b[38;5;241m=\u001b[39m\u001b[38;5;28;01mFalse\u001b[39;00m):\n\u001b[1;32m   3736\u001b[0m     \u001b[38;5;124;03m\"\"\"\u001b[39;00m\n\u001b[1;32m   3737\u001b[0m \u001b[38;5;124;03m    Compute the median along the specified axis.\u001b[39;00m\n\u001b[1;32m   3738\u001b[0m \n\u001b[0;32m   (...)\u001b[0m\n\u001b[1;32m   3814\u001b[0m \n\u001b[1;32m   3815\u001b[0m \u001b[38;5;124;03m    \"\"\"\u001b[39;00m\n\u001b[0;32m-> 3816\u001b[0m     r, k \u001b[38;5;241m=\u001b[39m \u001b[43m_ureduce\u001b[49m\u001b[43m(\u001b[49m\u001b[43ma\u001b[49m\u001b[43m,\u001b[49m\u001b[43m \u001b[49m\u001b[43mfunc\u001b[49m\u001b[38;5;241;43m=\u001b[39;49m\u001b[43m_median\u001b[49m\u001b[43m,\u001b[49m\u001b[43m \u001b[49m\u001b[43maxis\u001b[49m\u001b[38;5;241;43m=\u001b[39;49m\u001b[43maxis\u001b[49m\u001b[43m,\u001b[49m\u001b[43m \u001b[49m\u001b[43mout\u001b[49m\u001b[38;5;241;43m=\u001b[39;49m\u001b[43mout\u001b[49m\u001b[43m,\u001b[49m\n\u001b[1;32m   3817\u001b[0m \u001b[43m                    \u001b[49m\u001b[43moverwrite_input\u001b[49m\u001b[38;5;241;43m=\u001b[39;49m\u001b[43moverwrite_input\u001b[49m\u001b[43m)\u001b[49m\n\u001b[1;32m   3818\u001b[0m     \u001b[38;5;28;01mif\u001b[39;00m keepdims:\n\u001b[1;32m   3819\u001b[0m         \u001b[38;5;28;01mreturn\u001b[39;00m r\u001b[38;5;241m.\u001b[39mreshape(k)\n",
      "File \u001b[0;32m~/opt/anaconda3/envs/ImageEncoding/lib/python3.8/site-packages/numpy/lib/function_base.py:3725\u001b[0m, in \u001b[0;36m_ureduce\u001b[0;34m(a, func, **kwargs)\u001b[0m\n\u001b[1;32m   3722\u001b[0m \u001b[38;5;28;01melse\u001b[39;00m:\n\u001b[1;32m   3723\u001b[0m     keepdim \u001b[38;5;241m=\u001b[39m (\u001b[38;5;241m1\u001b[39m,) \u001b[38;5;241m*\u001b[39m a\u001b[38;5;241m.\u001b[39mndim\n\u001b[0;32m-> 3725\u001b[0m r \u001b[38;5;241m=\u001b[39m \u001b[43mfunc\u001b[49m\u001b[43m(\u001b[49m\u001b[43ma\u001b[49m\u001b[43m,\u001b[49m\u001b[43m \u001b[49m\u001b[38;5;241;43m*\u001b[39;49m\u001b[38;5;241;43m*\u001b[39;49m\u001b[43mkwargs\u001b[49m\u001b[43m)\u001b[49m\n\u001b[1;32m   3726\u001b[0m \u001b[38;5;28;01mreturn\u001b[39;00m r, keepdim\n",
      "File \u001b[0;32m~/opt/anaconda3/envs/ImageEncoding/lib/python3.8/site-packages/numpy/lib/function_base.py:3851\u001b[0m, in \u001b[0;36m_median\u001b[0;34m(a, axis, out, overwrite_input)\u001b[0m\n\u001b[1;32m   3849\u001b[0m         part \u001b[38;5;241m=\u001b[39m a\n\u001b[1;32m   3850\u001b[0m \u001b[38;5;28;01melse\u001b[39;00m:\n\u001b[0;32m-> 3851\u001b[0m     part \u001b[38;5;241m=\u001b[39m \u001b[43mpartition\u001b[49m\u001b[43m(\u001b[49m\u001b[43ma\u001b[49m\u001b[43m,\u001b[49m\u001b[43m \u001b[49m\u001b[43mkth\u001b[49m\u001b[43m,\u001b[49m\u001b[43m \u001b[49m\u001b[43maxis\u001b[49m\u001b[38;5;241;43m=\u001b[39;49m\u001b[43maxis\u001b[49m\u001b[43m)\u001b[49m\n\u001b[1;32m   3853\u001b[0m \u001b[38;5;28;01mif\u001b[39;00m part\u001b[38;5;241m.\u001b[39mshape \u001b[38;5;241m==\u001b[39m ():\n\u001b[1;32m   3854\u001b[0m     \u001b[38;5;66;03m# make 0-D arrays work\u001b[39;00m\n\u001b[1;32m   3855\u001b[0m     \u001b[38;5;28;01mreturn\u001b[39;00m part\u001b[38;5;241m.\u001b[39mitem()\n",
      "File \u001b[0;32m<__array_function__ internals>:180\u001b[0m, in \u001b[0;36mpartition\u001b[0;34m(*args, **kwargs)\u001b[0m\n",
      "File \u001b[0;32m~/opt/anaconda3/envs/ImageEncoding/lib/python3.8/site-packages/numpy/core/fromnumeric.py:754\u001b[0m, in \u001b[0;36mpartition\u001b[0;34m(a, kth, axis, kind, order)\u001b[0m\n\u001b[1;32m    669\u001b[0m \u001b[38;5;124;03m\"\"\"\u001b[39;00m\n\u001b[1;32m    670\u001b[0m \u001b[38;5;124;03mReturn a partitioned copy of an array.\u001b[39;00m\n\u001b[1;32m    671\u001b[0m \n\u001b[0;32m   (...)\u001b[0m\n\u001b[1;32m    750\u001b[0m \n\u001b[1;32m    751\u001b[0m \u001b[38;5;124;03m\"\"\"\u001b[39;00m\n\u001b[1;32m    752\u001b[0m \u001b[38;5;28;01mif\u001b[39;00m axis \u001b[38;5;129;01mis\u001b[39;00m \u001b[38;5;28;01mNone\u001b[39;00m:\n\u001b[1;32m    753\u001b[0m     \u001b[38;5;66;03m# flatten returns (1, N) for np.matrix, so always use the last axis\u001b[39;00m\n\u001b[0;32m--> 754\u001b[0m     a \u001b[38;5;241m=\u001b[39m \u001b[43masanyarray\u001b[49m\u001b[43m(\u001b[49m\u001b[43ma\u001b[49m\u001b[43m)\u001b[49m\u001b[38;5;241m.\u001b[39mflatten()\n\u001b[1;32m    755\u001b[0m     axis \u001b[38;5;241m=\u001b[39m \u001b[38;5;241m-\u001b[39m\u001b[38;5;241m1\u001b[39m\n\u001b[1;32m    756\u001b[0m \u001b[38;5;28;01melse\u001b[39;00m:\n",
      "\u001b[0;31mKeyboardInterrupt\u001b[0m: "
     ]
    }
   ],
   "source": [
    "all_lbp_features_train = []\n",
    "\n",
    "for each in tqdm(train_images):\n",
    "    all_lbp_features_train.append(get_lbp_features(each))"
   ]
  },
  {
   "cell_type": "code",
   "execution_count": 168,
   "id": "998f0658-ebf5-4051-97ef-8ba73017df74",
   "metadata": {},
   "outputs": [
    {
     "data": {
      "text/plain": [
       "<matplotlib.image.AxesImage at 0x7fcbe20b7550>"
      ]
     },
     "execution_count": 168,
     "metadata": {},
     "output_type": "execute_result"
    },
    {
     "data": {
      "image/png": "[encoded data removed]",
      "text/plain": [
       "<Figure size 432x288 with 1 Axes>"
      ]
     },
     "metadata": {
      "needs_background": "light"
     },
     "output_type": "display_data"
    }
   ],
   "source": [
    "plt.imshow(np.array(train_images[0]).reshape((28,28)))"
   ]
  },
  {
   "cell_type": "code",
   "execution_count": 96,
   "id": "2bbd1dd4-07c7-456a-886d-b153fa9c1907",
   "metadata": {},
   "outputs": [
    {
     "data": {
      "text/plain": [
       "<matplotlib.image.AxesImage at 0x7fcbe1aa74f0>"
      ]
     },
     "execution_count": 96,
     "metadata": {},
     "output_type": "execute_result"
    },
    {
     "data": {
      "image/png": "[encoded data removed]",
      "text/plain": [
       "<Figure size 432x288 with 1 Axes>"
      ]
     },
     "metadata": {
      "needs_background": "light"
     },
     "output_type": "display_data"
    }
   ],
   "source": [
    "plt.imshow(np.array(lbp_features).reshape((28,28)))"
   ]
  },
  {
   "cell_type": "code",
   "execution_count": 56,
   "id": "4f9da3c8-43aa-47f4-b8f8-0566d98f531c",
   "metadata": {},
   "outputs": [
    {
     "name": "stdout",
     "output_type": "stream",
     "text": [
      "(5, 5)\n"
     ]
    },
    {
     "data": {
      "text/plain": [
       "216.0"
      ]
     },
     "execution_count": 56,
     "metadata": {},
     "output_type": "execute_result"
    }
   ],
   "source": [
    "LBP(patches[9,9],[row,col])"
   ]
  },
  {
   "cell_type": "code",
   "execution_count": 116,
   "id": "03321048-fec7-4e9c-9dbb-bdbd3259e2d8",
   "metadata": {},
   "outputs": [],
   "source": [
    "def cycle_permutation(N,seed=101):\n",
    "    np.random.seed(seed)\n",
    "    a = np.arange(N)\n",
    "    for i in range(N-1):\n",
    "        j = np.random.randint(i+1,N)\n",
    "        a[[j,i]] = a[[i,j]]\n",
    "    return a"
   ]
  },
  {
   "cell_type": "code",
   "execution_count": 169,
   "id": "6ccbb876-2abc-4f88-bb66-91cb033d62f7",
   "metadata": {},
   "outputs": [],
   "source": [
    "def ShiftsByPerm4InvFast(inCVarray,perm_y,perm_x,perm_y1,perm_x1):\n",
    "    inCVarray = perm_y[inCVarray]\n",
    "    inCVarray = perm_x[inCVarray]\n",
    "    inCVarray = perm_y1[inCVarray]\n",
    "    outCVarray = perm_x1[inCVarray]\n",
    "    return outCVarray"
   ]
  },
  {
   "cell_type": "code",
   "execution_count": 118,
   "id": "8d70e2c8-d514-4265-b484-3e30deee2f55",
   "metadata": {},
   "outputs": [
    {
     "data": {
      "text/plain": [
       "10"
      ]
     },
     "execution_count": 118,
     "metadata": {},
     "output_type": "execute_result"
    }
   ],
   "source": [
    "cycle_permutation(10).shape[-1]"
   ]
  },
  {
   "cell_type": "code",
   "execution_count": 163,
   "id": "c9e28376-4b9d-4aeb-84f2-f9940ee77184",
   "metadata": {},
   "outputs": [],
   "source": [
    "def get_permutations(y_dim, x_dim, DC, DC_ratio, N, seed, y2_dim, x2_dim, DC2, DC2_ratio):\n",
    "    np.random.seed(seed)\n",
    "    DcX = round(DC*DC_ratio)\n",
    "    DcX2 = round(DC2*DC2_ratio)\n",
    "    \n",
    "    permutation_y0 = cycle_permutation(N,seed)\n",
    "    inverse_permutation_y0 = np.zeros(permutation_y0.shape[-1])\n",
    "    inverse_permutation_y0[permutation_y0] = np.arange(permutation_y0.shape[-1])\n",
    "    no_permutation = np.arange(N).T\n",
    "    \n",
    "    permutation_y = np.copy(permutation_y0).T\n",
    "    perm_compos_col = np.copy(permutation_y0)\n",
    "    for k in range(1,y_dim+DC-1):\n",
    "        perm_compos_col = np.copy(permutation_y0[perm_compos_col])\n",
    "        permutation_y = np.c_[permutation_y,perm_compos_col.T]\n",
    "        \n",
    "    \n",
    "    permutation_y_inv = np.copy(inverse_permutation_y0).T\n",
    "    perm_compos_col_inv = np.copy(inverse_permutation_y0)\n",
    "    for k in range(1,y_dim+DC-1):\n",
    "        perm_compos_col_inv = np.copy(inverse_permutation_y0[perm_compos_col_inv.astype(np.uint8)])\n",
    "        permutation_y_inv = np.c_[permutation_y_inv,perm_compos_col_inv.T]\n",
    "    \n",
    "    permutation_y_inv = np.fliplr(permutation_y_inv)\n",
    "    perm_y_all = np.concatenate([permutation_y_inv, np.expand_dims(no_permutation,-1), permutation_y],axis=1)\n",
    "    \n",
    "    \n",
    "    permutation_x = np.expand_dims(np.copy(perm_compos_col).T,-1)\n",
    "    perm_compos_col1 = np.copy(perm_compos_col)\n",
    "    for k in range(1,x_dim+DcX-1):\n",
    "        perm_compos_col1 = np.copy(perm_compos_col[perm_compos_col1.astype(np.uint8)])\n",
    "        permutation_x = np.c_[permutation_x,perm_compos_col[permutation_x[:,k-1].flatten().astype(np.uint8)].T]\n",
    "        \n",
    "    \n",
    "    permutation_x_inv = np.expand_dims(np.copy(perm_compos_col_inv).T,-1)\n",
    "    perm_compos_col_inv1 = np.copy(perm_compos_col_inv)\n",
    "    for k in range(1,x_dim+DcX-1):\n",
    "        perm_compos_col_inv1 = np.copy(perm_compos_col_inv[perm_compos_col_inv1.astype(np.uint8)])\n",
    "        permutation_x_inv = np.c_[permutation_x_inv,perm_compos_col_inv[permutation_x_inv[:,k-1].flatten().astype(np.uint8)].T]\n",
    "    \n",
    "    permutation_x_inv = np.fliplr(permutation_x_inv)\n",
    "    perm_x_all = np.concatenate([permutation_x_inv, np.expand_dims(no_permutation,-1), permutation_x],axis=1)\n",
    "    \n",
    "    \n",
    "    permutation_y1 = np.expand_dims(np.copy(perm_compos_col1).T,-1)\n",
    "    perm_compos_col2 = np.copy(perm_compos_col1)\n",
    "    for k in range(1,y2_dim+DC2-1):\n",
    "        perm_compos_col2 = np.copy(perm_compos_col1[perm_compos_col2.astype(np.uint8)])\n",
    "        permutation_y1 = np.c_[permutation_y1,perm_compos_col1[permutation_y1[:,k-1].flatten().astype(np.uint8)].T]\n",
    "        \n",
    "    \n",
    "    permutation_y1_inv = np.expand_dims(np.copy(perm_compos_col_inv1).T,-1)\n",
    "    perm_compos_col_inv2 = np.copy(perm_compos_col_inv1)\n",
    "    for k in range(1,y2_dim+DC2-1):\n",
    "        perm_compos_col_inv2 = np.copy(perm_compos_col_inv1[perm_compos_col_inv2.astype(np.uint8)])\n",
    "        permutation_y1_inv = np.c_[permutation_y1_inv,perm_compos_col_inv1[permutation_y1_inv[:,k-1].flatten().astype(np.uint8)].T]\n",
    "    \n",
    "    permutation_y1_inv = np.fliplr(permutation_y1_inv)\n",
    "    perm_y1_all = np.concatenate([permutation_y1_inv, np.expand_dims(no_permutation,-1), permutation_y1],axis=1)\n",
    "    \n",
    "    \n",
    "    \n",
    "    permutation_x1 = np.expand_dims(np.copy(perm_compos_col2).T, -1)\n",
    "    perm_compos_col3 = np.copy(perm_compos_col2)\n",
    "    for k in range(1,x2_dim+DcX2-1):\n",
    "        perm_compos_col3 = np.copy(perm_compos_col2[perm_compos_col3.astype(np.uint8)])\n",
    "        permutation_x1 = np.c_[permutation_x1,perm_compos_col2[permutation_x1[:,k-1].flatten().astype(np.uint8)].T]\n",
    "        \n",
    "    \n",
    "    permutation_x1_inv = np.expand_dims(np.copy(perm_compos_col_inv2).T, -1)\n",
    "    perm_compos_col_inv3 = np.copy(perm_compos_col_inv2)\n",
    "    for k in range(1,x2_dim+DcX2-1):\n",
    "        perm_compos_col_inv3 = np.copy(perm_compos_col_inv2[perm_compos_col_inv3.astype(np.uint8)])\n",
    "        permutation_x1_inv = np.c_[permutation_x1_inv,perm_compos_col_inv2[permutation_x1_inv[:,k-1].flatten().astype(np.uint8)].T]\n",
    "    \n",
    "    permutation_x1_inv = np.fliplr(permutation_x1_inv)\n",
    "    perm_x1_all = np.concatenate([permutation_x1_inv, np.expand_dims(no_permutation,-1), permutation_x1],axis=1)\n",
    "    \n",
    "    \n",
    "    \n",
    "    \n",
    "    \n",
    "    return perm_y_all, perm_x_all, perm_y1_all, perm_x1_all\n",
    "    \n",
    "    "
   ]
  },
  {
   "cell_type": "code",
   "execution_count": 164,
   "id": "0d3a8ee1-8490-4528-b207-2d1084940a72",
   "metadata": {},
   "outputs": [],
   "source": [
    "tyt = get_permutations(38,38,4,1,1000,101,511,1,1,1)"
   ]
  },
  {
   "cell_type": "code",
   "execution_count": null,
   "id": "8f680413-4242-41cb-84d8-1f095d19e8c3",
   "metadata": {},
   "outputs": [],
   "source": [
    "def make_codevector_matrix(y_dim, x_dim, DC, DC_ratio, N, seed, y2_dim, x2_dim, DC2, DC2_ratio,p,cyc):\n",
    "    np.random.seed(seed)\n",
    "    DcX = round(DC*DC_ratio)\n",
    "    DcX2 = round(DC2*DC2_ratio)\n",
    "    Np = round(p)\n",
    "    \n",
    "    \n",
    "    perm_all = get_permutations(y_dim, x_dim, DC, DC_ratio, N, seed, y2_dim, x2_dim, DC2, DC2_ratio)\n",
    "    perm_y_all = perm_all[0]\n",
    "    perm_x_all = perm_all[1]\n",
    "    perm_y_all1 = perm_all[2]\n",
    "    perm_x_all2 = perm_all[3]\n",
    "    \n",
    "    \n",
    "    no_permutation = np.arange(N)\n",
    "    base_permutation = np.random.permutation(N)\n",
    "    base_vec = base_permutation[:Np]\n",
    "    inCV1 = np.array()\n",
    "    \n",
    "    if cyc == 1:\n",
    "        perm_y0 = cycle_permutation(N,seed)\n",
    "    \n",
    "    base_permutation = perm_y0[base_vec]\n",
    "    \n",
    "    for jj1 in range(DcX2):\n",
    "        perm_x1 = perm_x_all[:,jj1+x2_dim+DcX2-1]\n",
    "        \n",
    "        for ii1 in range(DC2):\n",
    "            perm_y1 = perm_y_all1[:,ii1+y2_dim+DcX2-1]\n",
    "            \n",
    "            for jj in range(DcX):\n",
    "                perm_x = perm_x_all[:,jj+x_dim+DcX-1]\n",
    "                \n",
    "                for ii in range(DC):\n",
    "                    \n",
    "                    perm_y = perm_y_all[:,ii+y_dim+DC-1]\n",
    "                    \n",
    "                    inCV1(num:num+Np-1) = ShiftsByPerm4InvFast(base_vec,perm_y,perm_x,perm_y1,perm_x1);\n",
    "                    num = num + Np;"
   ]
  }
 ],
 "metadata": {
  "kernelspec": {
   "display_name": "Python 3",
   "language": "python",
   "name": "python3"
  },
  "language_info": {
   "codemirror_mode": {
    "name": "ipython",
    "version": 3
   },
   "file_extension": ".py",
   "mimetype": "text/x-python",
   "name": "python",
   "nbconvert_exporter": "python",
   "pygments_lexer": "ipython3",
   "version": "3.8.13"
  }
 },
 "nbformat": 4,
 "nbformat_minor": 5
}
